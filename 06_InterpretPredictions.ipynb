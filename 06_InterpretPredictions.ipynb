{
 "cells": [
  {
   "cell_type": "code",
   "execution_count": 1,
   "id": "american-defeat",
   "metadata": {},
   "outputs": [],
   "source": [
    "import pandas as pd\n",
    "import numpy as np\n",
    "import scipy\n",
    "\n",
    "from TrainPredictSelf import TrainPredictSelf\n",
    "from InterpretPredictions import InterpretPredictions\n",
    "\n",
    "\n",
    "import logging\n",
    "import sys\n",
    "logging.basicConfig(stream=sys.stdout, level=logging.INFO, datefmt='%H:%M:%S', format='%(asctime)s.%(msecs)03d - %(filename)s:%(lineno)d - %(message)s')"
   ]
  },
  {
   "cell_type": "code",
   "execution_count": 2,
   "id": "fifty-beast",
   "metadata": {},
   "outputs": [
    {
     "name": "stdout",
     "output_type": "stream",
     "text": [
      "    country currency manyvalues        rand  linear               city\n",
      "0   Germany      EUR          A  190.221484       0  Frankfurt am Main\n",
      "1   Germany      EUR          A  160.256427       1  Frankfurt am Main\n",
      "2   Germany      EUR          B  177.855791       2  Frankfurt am Main\n",
      "3   Germany      EUR          B  184.523597       3  Frankfurt am Main\n",
      "4   Germany      EUR          C  187.287691       4  Frankfurt am Main\n",
      "5   Germany      MXN          C  164.141125       5  Frankfurt am Main\n",
      "6        US      USD          D  183.738649       6        Los Angeles\n",
      "7        US      USD          D  123.016627       7        Los Angeles\n",
      "8        US      USD          E  121.598525       8        Los Angeles\n",
      "9        US      USD          E  183.253290       9        Los Angeles\n",
      "10       US      USD          E  130.655571      10        Los Angeles\n",
      "11       UK      GBP          K  160.135443      11             London\n",
      "12       UK      GBP          L  189.252392      12             London\n",
      "13  Germany      GBP          M  185.495396      13             London\n",
      "14       UK      GBP          N  127.273747      14             London\n",
      "15       UK      GBP          O  100.224686      15             London\n",
      "16      LUX      EUR          Z  192.730563      16         Luxembourg\n",
      "17      LUX      EUR          Z  192.817671      17         Luxembourg\n",
      "18      LUX      EUR          Z  191.370164      18         Luxembourg\n",
      "19      LUX      EUR          Z  112.919591      19         Luxembourg\n",
      "20      LUX      EUR          Y  165.331232      20                Bad\n"
     ]
    }
   ],
   "source": [
    "data1 = { 'country': ['Germany','Germany','Germany','Germany','Germany', 'Germany',\n",
    "                     'US', 'US', 'US', 'US', 'US',\n",
    "                     'UK', 'UK', 'Germany', 'UK', 'UK', \n",
    "                     'LUX','LUX','LUX','LUX','LUX'],\n",
    "         'currency':['EUR','EUR','EUR','EUR','EUR','MXN',\n",
    "                     'USD','USD','USD','USD','USD',\n",
    "                     'GBP','GBP','GBP','GBP','GBP',\n",
    "                     'EUR','EUR','EUR','EUR','EUR'],\n",
    "         'manyvalues':['A', 'A', 'B', 'B', 'C', 'C', 'D', 'D', 'E', 'E', 'E', 'K', 'L', 'M', 'N', 'O',\n",
    "                      'Z', 'Z', 'Z', 'Z', 'Y'],\n",
    "         'rand': [ np.random.uniform(100,200) for _ in range(21) ],\n",
    "         'linear': [ x for x in range(21) ],\n",
    "         'city': ['Frankfurt am Main'] * 6 + ['Los Angeles'] * 5 + ['London'] * 5 + ['Luxembourg'] * 4 + ['Bad'] * 1}\n",
    "data1 = pd.DataFrame(data1) \n",
    "print(data1)"
   ]
  },
  {
   "cell_type": "code",
   "execution_count": 3,
   "id": "educational-october",
   "metadata": {},
   "outputs": [],
   "source": [
    "tps = TrainPredictSelf()\n",
    "\n",
    "results_labels, results_proba = tps.Train(data1)"
   ]
  },
  {
   "cell_type": "code",
   "execution_count": 4,
   "id": "every-malawi",
   "metadata": {},
   "outputs": [
    {
     "name": "stdout",
     "output_type": "stream",
     "text": [
      "    country currency manyvalues        rand  linear               city\n",
      "0   Germany      EUR          B  186.495521     2.0  Frankfurt am Main\n",
      "1   Germany      EUR          B  186.495521     2.0  Frankfurt am Main\n",
      "2   Germany      EUR          A  186.495521     6.0  Frankfurt am Main\n",
      "3   Germany      EUR          A  173.939887     6.0  Frankfurt am Main\n",
      "4   Germany      EUR          C  173.939887     6.0  Frankfurt am Main\n",
      "5   Germany      EUR          C  186.495521     6.0  Frankfurt am Main\n",
      "6        US      USD          E  113.749217    10.0        Los Angeles\n",
      "7        US      USD          E  113.749217    10.0        Los Angeles\n",
      "8        US      USD          E  173.939887    10.0        Los Angeles\n",
      "9        US      USD          E  145.707436    10.0        Los Angeles\n",
      "10       US      USD          E  173.939887    10.0        Los Angeles\n",
      "11       UK      GBP          O  191.035032    14.0             London\n",
      "12  Germany      GBP          Z  145.707436    14.0             London\n",
      "13       UK      EUR          C  145.707436    14.0  Frankfurt am Main\n",
      "14       UK      GBP          O  113.749217    14.0             London\n",
      "15      LUX      GBP          N  145.707436    18.0             London\n",
      "16      LUX      EUR          Z  191.035032    18.0         Luxembourg\n",
      "17      LUX      EUR          Z  191.035032    18.0         Luxembourg\n",
      "18      LUX      EUR          Z  191.035032    18.0         Luxembourg\n",
      "19      LUX      EUR          O  191.035032    18.0             London\n",
      "20      LUX      EUR          Z  191.035032    18.0             London\n",
      "     country  currency  manyvalues      rand    linear      city\n",
      "0   0.890746  0.938224    0.606176  0.611346  0.750836  0.900523\n",
      "1   0.586951  0.548358    0.483250  0.331119  0.839701  0.911958\n",
      "2   0.797955  0.813442    0.563525  0.611346  0.465514  0.909015\n",
      "3   0.904853  0.813442    0.562484  0.345812  0.465514  0.895032\n",
      "4   0.957291  0.538788    0.165729  0.739426  0.376619  0.898550\n",
      "5   0.501670  0.937292    0.130683  0.966363  0.514404  0.766593\n",
      "6   0.909169  0.873348    0.637350  0.858226  0.565543  0.830162\n",
      "7   0.839489  0.904854    0.883793  0.442531  0.694272  0.847682\n",
      "8   0.868545  0.893965    0.318677  0.590144  0.638740  0.872297\n",
      "9   0.854837  0.836952    0.396187  0.802993  0.572660  0.893117\n",
      "10  0.783955  0.847902    0.375295  0.574484  0.638740  0.770220\n",
      "11  0.566890  0.891216    0.272262  0.715386  0.839672  0.789192\n",
      "12  0.740411  0.851910    0.323229  0.409549  0.708381  0.828934\n",
      "13  0.809069  0.834003    0.249203  0.531548  0.313922  0.527753\n",
      "14  0.744800  0.867895    0.283410  0.837257  0.803899  0.922315\n",
      "15  0.738454  0.586521    0.220288  0.404379  0.523313  0.788219\n",
      "16  0.733887  0.911384    0.835445  0.888371  0.885833  0.850969\n",
      "17  0.844041  0.941727    0.840385  0.505248  0.912963  0.814651\n",
      "18  0.733887  0.911384    0.710353  0.491177  0.818002  0.802752\n",
      "19  0.759506  0.359843    0.162481  0.952539  0.795048  0.419613\n",
      "20  0.719691  0.774054    0.626282  0.934623  0.644625  0.419613\n"
     ]
    }
   ],
   "source": [
    "ip = InterpretPredictions()\n",
    "dfpredicted, dfprobas = ip.SinglePredictionPerCell(results_labels, results_proba)\n",
    "print(dfpredicted)\n",
    "print(dfprobas)"
   ]
  },
  {
   "cell_type": "code",
   "execution_count": 5,
   "id": "talented-birmingham",
   "metadata": {},
   "outputs": [
    {
     "name": "stdout",
     "output_type": "stream",
     "text": [
      "     country  currency  manyvalues      rand    linear      city\n",
      "0   0.848329  0.903097    0.519869  0.328428  0.582654  0.870477\n",
      "1   0.285083  0.252943    0.268873  0.006724  0.762280  0.873836\n",
      "2   0.719469  0.696934    0.365618  0.328428  0.094758  0.879325\n",
      "3   0.871610  0.696934    0.364943  0.045834  0.094758  0.860894\n",
      "4   0.941921  0.251924    0.024968  0.635240  0.115277  0.870419\n",
      "5   0.046829  0.902609    0.019509  0.940795  0.337246  0.685632\n",
      "6   0.861363  0.816515    0.563972  0.769345  0.202087  0.756914\n",
      "7   0.732275  0.861230    0.865805  0.094830  0.428790  0.762769\n",
      "8   0.788589  0.837416    0.169650  0.402755  0.482386  0.818608\n",
      "9   0.797556  0.764641    0.116273  0.677633  0.279277  0.855145\n",
      "10  0.648581  0.766543    0.101406  0.385524  0.482386  0.629192\n",
      "11  0.403548  0.841473    0.106405  0.557219  0.786392  0.724778\n",
      "12  0.643602  0.758069    0.120854  0.114586  0.585876  0.782335\n",
      "13  0.739781  0.726306    0.113917  0.256634  0.071486  0.267623\n",
      "14  0.645407  0.818490    0.103999  0.749329  0.699256  0.900971\n",
      "15  0.551843  0.256087    0.076569  0.145494  0.254407  0.714506\n",
      "16  0.538068  0.864559    0.793064  0.801209  0.823446  0.804617\n",
      "17  0.727130  0.900493    0.800022  0.074648  0.864665  0.707977\n",
      "18  0.538068  0.864559    0.636458  0.053009  0.718483  0.706707\n",
      "19  0.607119  0.060214    0.004655  0.927217  0.695078  0.046931\n",
      "20  0.605700  0.657665    0.557424  0.906890  0.490776  0.046931\n"
     ]
    }
   ],
   "source": [
    "dfConfidence =ip.Confidence(results_proba)\n",
    "print(dfConfidence)"
   ]
  },
  {
   "cell_type": "code",
   "execution_count": 6,
   "id": "qualified-sandwich",
   "metadata": {},
   "outputs": [
    {
     "name": "stdout",
     "output_type": "stream",
     "text": [
      "    country  currency  manyvalues   rand  linear   city\n",
      "0     False     False       False  False   False  False\n",
      "1     False     False       False  False   False  False\n",
      "2     False     False       False  False   False  False\n",
      "3     False     False       False  False   False  False\n",
      "4     False     False       False  False   False  False\n",
      "5     False      True       False   True   False  False\n",
      "6     False     False       False  False   False  False\n",
      "7     False     False        True  False   False  False\n",
      "8     False     False       False  False   False  False\n",
      "9     False     False       False  False   False  False\n",
      "10    False     False       False  False   False  False\n",
      "11    False     False       False  False   False  False\n",
      "12    False     False       False  False   False  False\n",
      "13     True     False       False  False   False  False\n",
      "14    False     False       False  False   False  False\n",
      "15    False     False       False  False   False  False\n",
      "16    False     False       False  False   False  False\n",
      "17    False     False       False  False    True  False\n",
      "18    False     False       False  False   False  False\n",
      "19    False     False       False   True   False  False\n",
      "20    False     False       False   True   False  False\n"
     ]
    }
   ],
   "source": [
    "dfBoolDifferences = ip._BoolDifferencesConfidentPredictionCorrect(data1, results_labels, dfpredicted, results_proba, dfConfidence)\n",
    "print(dfBoolDifferences)"
   ]
  },
  {
   "cell_type": "code",
   "execution_count": 7,
   "id": "pleasant-fusion",
   "metadata": {},
   "outputs": [
    {
     "name": "stdout",
     "output_type": "stream",
     "text": [
      "    country  currency  manyvalues   rand  linear   city\n",
      "0     False     False       False  False   False  False\n",
      "1     False     False       False  False   False  False\n",
      "2     False     False       False  False   False  False\n",
      "3     False     False       False  False   False  False\n",
      "4     False     False       False  False   False  False\n",
      "5     False      True       False  False   False  False\n",
      "6     False     False       False  False   False  False\n",
      "7     False     False       False  False   False  False\n",
      "8     False     False       False  False   False  False\n",
      "9     False     False       False  False   False  False\n",
      "10    False     False       False  False   False  False\n",
      "11    False     False       False  False    True  False\n",
      "12    False     False       False  False   False  False\n",
      "13     True     False       False  False   False  False\n",
      "14    False     False       False  False   False  False\n",
      "15    False     False       False  False   False  False\n",
      "16    False     False       False  False   False  False\n",
      "17    False     False       False  False   False  False\n",
      "18    False     False       False  False   False  False\n",
      "19    False     False       False  False   False  False\n",
      "20    False     False       False   True   False   True\n"
     ]
    }
   ],
   "source": [
    "dfBoolDifferences = ip._BoolDifferencesConfidentObservedWrong(data1, results_labels, dfpredicted, results_proba, dfConfidence)\n",
    "print(dfBoolDifferences)"
   ]
  },
  {
   "cell_type": "code",
   "execution_count": 8,
   "metadata": {},
   "outputs": [
    {
     "name": "stdout",
     "output_type": "stream",
     "text": [
      "    country  currency  manyvalues   rand  linear   city\n",
      "0     False     False       False  False   False  False\n",
      "1     False     False       False  False   False  False\n",
      "2     False     False       False  False   False  False\n",
      "3     False     False       False  False   False  False\n",
      "4     False     False       False  False   False  False\n",
      "5     False      True       False   True   False  False\n",
      "6     False     False       False  False   False  False\n",
      "7     False     False        True  False   False  False\n",
      "8     False     False       False  False   False  False\n",
      "9     False     False       False  False   False  False\n",
      "10    False     False       False  False   False  False\n",
      "11    False     False       False  False    True  False\n",
      "12    False     False       False  False   False  False\n",
      "13     True     False       False  False   False  False\n",
      "14    False     False       False  False   False  False\n",
      "15    False     False       False  False   False  False\n",
      "16    False     False       False  False   False  False\n",
      "17    False     False       False  False    True  False\n",
      "18    False     False       False  False   False  False\n",
      "19    False     False       False   True   False  False\n",
      "20    False     False       False   True   False   True\n"
     ]
    }
   ],
   "source": [
    "dfBoolDifferences =  ip.boolDifferences(data1, results_labels, results_proba)\n",
    "print(dfBoolDifferences)"
   ]
  },
  {
   "cell_type": "code",
   "execution_count": null,
   "metadata": {},
   "outputs": [],
   "source": []
  }
 ],
 "metadata": {
  "kernelspec": {
   "display_name": "Python 3",
   "language": "python",
   "name": "python3"
  },
  "language_info": {
   "codemirror_mode": {
    "name": "ipython",
    "version": 3
   },
   "file_extension": ".py",
   "mimetype": "text/x-python",
   "name": "python",
   "nbconvert_exporter": "python",
   "pygments_lexer": "ipython3",
   "version": "3.6.9"
  }
 },
 "nbformat": 4,
 "nbformat_minor": 5
}
