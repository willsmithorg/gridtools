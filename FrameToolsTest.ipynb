{
 "cells": [
  {
   "cell_type": "code",
   "execution_count": 1,
   "metadata": {},
   "outputs": [],
   "source": [
    "import pandas as pd\n",
    "from FrameTools import FrameTools"
   ]
  },
  {
   "cell_type": "code",
   "execution_count": 2,
   "metadata": {},
   "outputs": [],
   "source": [
    "# Create simple dataframe\n",
    "data = {'id': ['A','B','C','D','E'],\n",
    "        'state':['Ohio', 'Ohio', 'Ohio', 'Nevada', 'Nevada'],        \n",
    "        'year':[2000,2001,2002,2001,2002],\n",
    "       'pop':[1.5,1.7,3.6,2.4,2.9]}\n",
    "frame = pd.DataFrame(data)"
   ]
  },
  {
   "cell_type": "code",
   "execution_count": 3,
   "metadata": {},
   "outputs": [],
   "source": [
    "f = FrameTools(frame)"
   ]
  },
  {
   "cell_type": "code",
   "execution_count": 4,
   "metadata": {},
   "outputs": [
    {
     "name": "stdout",
     "output_type": "stream",
     "text": [
      "Index(['id', 'state', 'year', 'pop'], dtype='object')\n"
     ]
    }
   ],
   "source": [
    "f.listcols()"
   ]
  },
  {
   "cell_type": "code",
   "execution_count": 5,
   "metadata": {},
   "outputs": [
    {
     "name": "stdout",
     "output_type": "stream",
     "text": [
      "Converting...\n",
      "Column : id\n",
      "Type: <class 'str'>\n",
      "Length: 5\n",
      "Column : state\n",
      "Type: <class 'str'>\n",
      "Length: 2\n",
      "[[0. 1.]\n",
      " [0. 1.]\n",
      " [0. 1.]\n",
      " [1. 0.]\n",
      " [1. 0.]]\n",
      "Column : year\n",
      "Type: <class 'numpy.int64'>\n",
      "Length: 3\n",
      "Column : pop\n",
      "Type: <class 'numpy.float64'>\n",
      "Length: 5\n",
      "   id  state_0  state_1  year  pop\n",
      "0   0      0.0      1.0  2000  1.5\n",
      "1   1      0.0      1.0  2001  1.7\n",
      "2   2      0.0      1.0  2002  3.6\n",
      "3   3      1.0      0.0  2001  2.4\n",
      "4   4      1.0      0.0  2002  2.9\n"
     ]
    }
   ],
   "source": [
    "f.convert_for_xgboost()"
   ]
  },
  {
   "cell_type": "code",
   "execution_count": null,
   "metadata": {},
   "outputs": [],
   "source": []
  },
  {
   "cell_type": "code",
   "execution_count": null,
   "metadata": {},
   "outputs": [],
   "source": []
  }
 ],
 "metadata": {
  "kernelspec": {
   "display_name": "Python 3",
   "language": "python",
   "name": "python3"
  },
  "language_info": {
   "codemirror_mode": {
    "name": "ipython",
    "version": 3
   },
   "file_extension": ".py",
   "mimetype": "text/x-python",
   "name": "python",
   "nbconvert_exporter": "python",
   "pygments_lexer": "ipython3",
   "version": "3.8.5"
  }
 },
 "nbformat": 4,
 "nbformat_minor": 4
}
