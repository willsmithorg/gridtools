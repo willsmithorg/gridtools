{
 "cells": [
  {
   "cell_type": "code",
   "execution_count": 1,
   "id": "naked-export",
   "metadata": {},
   "outputs": [],
   "source": [
    "import pandas as pd\n",
    "import numpy as np\n",
    "import scipy\n",
    "from Column import Column\n",
    "from AddDerivedColumns import AddDerivedColumns\n",
    "\n",
    "import logging\n",
    "import sys\n",
    "logging.basicConfig(stream=sys.stdout, level=logging.DEBUG, datefmt='%H:%M:%S', format='%(asctime)s.%(msecs)03d - %(filename)s:%(lineno)d - %(message)s')\n"
   ]
  },
  {
   "cell_type": "code",
   "execution_count": 2,
   "id": "binding-branch",
   "metadata": {},
   "outputs": [],
   "source": [
    "col1 = Column(pd.Series(['abc','def', 'ghij'], name='col1'))\n",
    "adc = AddDerivedColumns(col1)\n",
    "adc.Add()\n"
   ]
  },
  {
   "cell_type": "code",
   "execution_count": 3,
   "id": "competitive-variable",
   "metadata": {},
   "outputs": [
    {
     "name": "stdout",
     "output_type": "stream",
     "text": [
      "Name : col1\n",
      "Size : 3\n",
      "Dtype : object\n",
      "Depth : 0\n",
      "Children: [col1.length,col1.upper]\n",
      "Parent: -\n",
      "\n",
      "Name : col1.length\n",
      "Size : 3\n",
      "Dtype : int64\n",
      "Depth : 1\n",
      "Children: []\n",
      "Parent: col1\n",
      "\n"
     ]
    }
   ],
   "source": [
    "print(col1)\n",
    "print(col1.children[0])"
   ]
  },
  {
   "cell_type": "code",
   "execution_count": 4,
   "id": "vertical-flesh",
   "metadata": {},
   "outputs": [
    {
     "name": "stdout",
     "output_type": "stream",
     "text": [
      "0     abc\n",
      "1     def\n",
      "2    ghij\n",
      "Name: col1, dtype: object\n",
      "0    3\n",
      "1    3\n",
      "2    4\n",
      "Name: col1.length, dtype: int64\n",
      "0     ABC\n",
      "1     DEF\n",
      "2    GHIJ\n",
      "Name: col1.upper, dtype: object\n"
     ]
    }
   ],
   "source": [
    "print(col1.series)\n",
    "print(col1.children[0].series)\n",
    "print(col1.children[1].series)"
   ]
  },
  {
   "cell_type": "code",
   "execution_count": 5,
   "id": "dress-asset",
   "metadata": {},
   "outputs": [
    {
     "name": "stdout",
     "output_type": "stream",
     "text": [
      "Name : col1\n",
      "Size : 3\n",
      "Dtype : object\n",
      "Depth : 0\n",
      "Children: [col1.length,col1.upper]\n",
      "Parent: -\n",
      "\n"
     ]
    }
   ],
   "source": [
    "adc.Add()\n",
    "print(col1)"
   ]
  },
  {
   "cell_type": "code",
   "execution_count": 6,
   "id": "lesbian-possession",
   "metadata": {},
   "outputs": [
    {
     "name": "stdout",
     "output_type": "stream",
     "text": [
      "Name : col2\n",
      "Size : 4\n",
      "Dtype : int64\n",
      "Depth : 0\n",
      "Children: []\n",
      "Parent: -\n",
      "\n",
      "0    1\n",
      "1    2\n",
      "2    0\n",
      "3    1\n",
      "Name: col2.absolute, dtype: int64\n"
     ]
    }
   ],
   "source": [
    "col2 = Column(pd.Series([1,2,0,-1], name='col2'))\n",
    "print(col2)\n",
    "adc = AddDerivedColumns(col2)\n",
    "adc.Add()\n",
    "print(col2.children[0].series)"
   ]
  }
 ],
 "metadata": {
  "kernelspec": {
   "display_name": "Python 3",
   "language": "python",
   "name": "python3"
  },
  "language_info": {
   "codemirror_mode": {
    "name": "ipython",
    "version": 3
   },
   "file_extension": ".py",
   "mimetype": "text/x-python",
   "name": "python",
   "nbconvert_exporter": "python",
   "pygments_lexer": "ipython3",
   "version": "3.8.8"
  }
 },
 "nbformat": 4,
 "nbformat_minor": 5
}
