{
 "cells": [
  {
   "cell_type": "code",
   "execution_count": 1,
   "id": "suitable-crazy",
   "metadata": {},
   "outputs": [],
   "source": [
    "import pandas as pd\n",
    "from TrainPredict import TrainPredict\n"
   ]
  },
  {
   "cell_type": "code",
   "execution_count": 2,
   "id": "offshore-collins",
   "metadata": {},
   "outputs": [],
   "source": [
    "data = {'x1': [100,100,100,100,100,100,100,100,     200,200,200,200,200,200,200,200 ],\n",
    "        'x2': [1,2,1,2,1,2,1,2,                      1,2,1,2,1,2,1,2 ],\n",
    "        'y': [1.0,1.0,1.0,1.0,1.0,1.0,1.0,1.0,                6.0,5.0,6.0,5.0,6.0,5.0,6.0,5.0]}\n",
    "\n",
    "frame = pd.DataFrame(data)\n",
    "\n"
   ]
  },
  {
   "cell_type": "code",
   "execution_count": 3,
   "id": "visible-weight",
   "metadata": {},
   "outputs": [
    {
     "name": "stdout",
     "output_type": "stream",
     "text": [
      "(16,)\n",
      "[02:16:36] WARNING: C:/Users/Administrator/workspace/xgboost-win64_release_1.3.0/src/learner.cc:1061: Starting in XGBoost 1.3.0, the default evaluation metric used with the objective 'multi:softprob' was changed from 'merror' to 'mlogloss'. Explicitly set eval_metric if you'd like to restore the old behavior.\n",
      "row:0 actual:1.0 prediction:1.0\n",
      "row:1 actual:1.0 prediction:1.0\n",
      "row:2 actual:1.0 prediction:1.0\n",
      "row:3 actual:1.0 prediction:1.0\n",
      "row:4 actual:1.0 prediction:1.0\n",
      "row:5 actual:1.0 prediction:1.0\n",
      "row:6 actual:1.0 prediction:1.0\n",
      "row:7 actual:1.0 prediction:1.0\n",
      "row:8 actual:6.0 prediction:5.0\n",
      "row:9 actual:5.0 prediction:5.0\n",
      "row:10 actual:6.0 prediction:5.0\n",
      "row:11 actual:5.0 prediction:5.0\n",
      "row:12 actual:6.0 prediction:5.0\n",
      "row:13 actual:5.0 prediction:5.0\n",
      "row:14 actual:6.0 prediction:5.0\n",
      "row:15 actual:5.0 prediction:5.0\n"
     ]
    },
    {
     "name": "stderr",
     "output_type": "stream",
     "text": [
      "C:\\Users\\will\\AppData\\Local\\Packages\\PythonSoftwareFoundation.Python.3.8_qbz5n2kfra8p0\\LocalCache\\local-packages\\Python38\\site-packages\\xgboost\\sklearn.py:888: UserWarning: The use of label encoder in XGBClassifier is deprecated and will be removed in a future release. To remove this warning, do the following: 1) Pass option use_label_encoder=False when constructing XGBClassifier object; and 2) Encode your labels (y) as integers starting with 0, i.e. 0, 1, 2, ..., [num_class - 1].\n",
      "  warnings.warn(label_encoder_deprecation_msg, UserWarning)\n"
     ]
    }
   ],
   "source": [
    "trainPredict = TrainPredict(frame)\n",
    "\n",
    "trainPredict.Train()\n",
    "\n",
    "trainPredict.Predict()"
   ]
  },
  {
   "cell_type": "code",
   "execution_count": null,
   "id": "boxed-spokesman",
   "metadata": {},
   "outputs": [],
   "source": []
  }
 ],
 "metadata": {
  "kernelspec": {
   "display_name": "Python 3",
   "language": "python",
   "name": "python3"
  },
  "language_info": {
   "codemirror_mode": {
    "name": "ipython",
    "version": 3
   },
   "file_extension": ".py",
   "mimetype": "text/x-python",
   "name": "python",
   "nbconvert_exporter": "python",
   "pygments_lexer": "ipython3",
   "version": "3.8.5"
  }
 },
 "nbformat": 4,
 "nbformat_minor": 5
}
