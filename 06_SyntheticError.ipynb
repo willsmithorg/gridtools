{
 "cells": [
  {
   "cell_type": "code",
   "execution_count": 1,
   "id": "postal-binary",
   "metadata": {},
   "outputs": [],
   "source": [
    "from datetime import datetime\n",
    "import numpy as np\n",
    "from SyntheticError import SyntheticError"
   ]
  },
  {
   "cell_type": "code",
   "execution_count": 2,
   "id": "loved-potter",
   "metadata": {},
   "outputs": [],
   "source": [
    "se = SyntheticError()"
   ]
  },
  {
   "cell_type": "code",
   "execution_count": 3,
   "id": "champion-reservoir",
   "metadata": {
    "scrolled": true
   },
   "outputs": [
    {
     "name": "stdout",
     "output_type": "stream",
     "text": [
      "Samples: 30\n",
      "predictability 40.0 % in  2.698742 seconds\n",
      "Samples: 30\n",
      "predictability 34.76190476190476 % in  0.902996 seconds\n",
      "Samples: 100\n",
      "predictability 50.57142857142857 % in  1.78038 seconds\n",
      "Samples: 300\n",
      "predictability 56.00000000000001 % in  3.090188 seconds\n"
     ]
    }
   ],
   "source": [
    "samples = [30,30,100,300]  # First 30 is just to warm up the caches and should be ignored.\n",
    "for sample in samples:\n",
    "    print('Samples:', sample)\n",
    "    predictability = []\n",
    "    times = []    \n",
    "    # The loop will converge to more and more accurate estimate since we are averaging every element so far.\n",
    "    for i in range(1):\n",
    "        df = se.MakeClassification(n_samples = sample)\n",
    "        start = datetime.now()\n",
    "        predictability.append(se.HowPredictable(df))\n",
    "        end = datetime.now()   \n",
    "        diff = end-start\n",
    "        times.append(diff.total_seconds())\n",
    "        print(\"predictability\", np.mean(predictability)*100, \"% in \", np.mean(times), \"seconds\")\n",
    "    "
   ]
  },
  {
   "cell_type": "code",
   "execution_count": 4,
   "id": "available-ordering",
   "metadata": {},
   "outputs": [
    {
     "name": "stdout",
     "output_type": "stream",
     "text": [
      "   col0  col1  col2  col3      col4      col5  col6\n",
      "0     3     2     1     1 -0.441212 -0.282562     0\n",
      "1     0     1     3     2  0.098055  1.378428     1\n",
      "2     4     4     2     3 -1.404272 -0.734972     4\n",
      "3     4     2     3     3 -0.515865 -0.172943     4\n",
      "4     2     4     2     2 -1.732235 -0.054094     1\n",
      "5     2     1     0     0 -0.275700 -0.993918     3\n",
      "6     1     0     4     4  0.756053  2.399762     2\n",
      "7     3     3     0     0 -0.496009 -2.505971     3\n",
      "8     1     3     1     1 -0.987014 -0.733556     0\n",
      "9     0     0     4     4  1.466759  3.375363     2\n"
     ]
    }
   ],
   "source": [
    "\n",
    "df = se.MakeClassification(n_samples=10)\n",
    "print(df)\n"
   ]
  },
  {
   "cell_type": "code",
   "execution_count": 5,
   "metadata": {},
   "outputs": [
    {
     "name": "stdout",
     "output_type": "stream",
     "text": [
      "   col0  col1  col2  col3      col4      col5  col6\n",
      "0     1     4     0     2 -2.723822  3.161489     2\n",
      "1     3     0     2     0  0.705058  0.414787     3\n",
      "2     0     4     3     4 -0.291564 -2.338843     1\n",
      "3     4     0     4     2  2.871463 -3.485841     4\n",
      "4     2     3     0     0 -1.253166  2.285771     2\n",
      "5     2     3     3     4  0.143926 -1.508115     1\n",
      "6     1     1     1     1 -0.207460  1.152602     0\n",
      "7     3     1     2     1  0.814188  0.208939     3\n",
      "8     4     2     4     3  1.175334 -1.897341     4\n",
      "9     0     2     1     3 -0.415974  0.853455     0\n",
      "   col0  col1  col2  col3      col4      col5  col6\n",
      "0     1     3     2     3  1.236761 -0.350221     0\n",
      "1     2     2     0     1 -0.381974 -2.381511     2\n",
      "2     3     1     2     3  1.711809 -0.565902     3\n",
      "3     3     4     3     1  0.074901 -1.250828     3\n",
      "4     0     4     1     1  0.659401 -2.401614     3\n",
      "5     3     4     0     2  2.747440  0.234242     0\n",
      "6     2     4     2     2  1.413225 -0.544849     3\n",
      "7     1     4     4     3  2.042073 -1.486739     1\n",
      "8     0     3     3     4 -0.306458 -0.919903     0\n",
      "9     1     1     4     1  2.488255 -1.951361     1 \n",
      "     col0  col1  col2  col3  col4  col5  col6\n",
      "0  False  True  True  True  True  True  True\n",
      "1   True  True  True  True  True  True  True\n",
      "2   True  True  True  True  True  True  True\n",
      "3   True  True  True  True  True  True  True\n",
      "4   True  True  True  True  True  True  True\n",
      "5   True  True  True  True  True  True  True\n",
      "6   True  True  True  True  True  True  True\n",
      "7   True  True  True  True  True  True  True\n",
      "8   True  True  True  True  True  True  True\n",
      "9   True  True  True  True  True  True  True\n"
     ]
    }
   ],
   "source": [
    "df = se.MakeClassification(n_samples=10)\n",
    "print(df)\n",
    "df, boolChanged = se.CreateErrors(df, quantity=69)\n",
    "print(df, '\\n', boolChanged)"
   ]
  },
  {
   "cell_type": "code",
   "execution_count": null,
   "metadata": {},
   "outputs": [],
   "source": []
  }
 ],
 "metadata": {
  "kernelspec": {
   "display_name": "Python 3",
   "language": "python",
   "name": "python3"
  },
  "language_info": {
   "codemirror_mode": {
    "name": "ipython",
    "version": 3
   },
   "file_extension": ".py",
   "mimetype": "text/x-python",
   "name": "python",
   "nbconvert_exporter": "python",
   "pygments_lexer": "ipython3",
   "version": "3.6.9"
  }
 },
 "nbformat": 4,
 "nbformat_minor": 5
}
