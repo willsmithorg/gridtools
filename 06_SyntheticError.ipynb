{
 "cells": [
  {
   "cell_type": "code",
   "execution_count": 1,
   "id": "postal-binary",
   "metadata": {},
   "outputs": [],
   "source": [
    "from datetime import datetime\n",
    "import numpy as np\n",
    "from SyntheticError import SyntheticError"
   ]
  },
  {
   "cell_type": "code",
   "execution_count": 2,
   "id": "loved-potter",
   "metadata": {},
   "outputs": [],
   "source": [
    "se = SyntheticError()"
   ]
  },
  {
   "cell_type": "code",
   "execution_count": 3,
   "id": "champion-reservoir",
   "metadata": {
    "scrolled": true
   },
   "outputs": [
    {
     "name": "stdout",
     "output_type": "stream",
     "text": [
      "Samples: 30\n",
      "predictability 38.57142857142858 % in  2.697193 seconds\n",
      "Samples: 30\n",
      "predictability 33.80952380952381 % in  0.907011 seconds\n",
      "Samples: 100\n",
      "predictability 43.28571428571429 % in  1.574078 seconds\n",
      "Samples: 300\n",
      "predictability 50.28571428571429 % in  3.063836 seconds\n"
     ]
    }
   ],
   "source": [
    "samples = [30,30,100,300]  # First 30 is just to warm up the caches and should be ignored.\n",
    "for sample in samples:\n",
    "    print('Samples:', sample)\n",
    "    predictability = []\n",
    "    times = []    \n",
    "    # The loop will converge to more and more accurate estimate since we are averaging every element so far.\n",
    "    for i in range(1):\n",
    "        df = se.MakeClassification(n_samples = sample)\n",
    "        start = datetime.now()\n",
    "        predictability.append(se.HowPredictable(df))\n",
    "        end = datetime.now()   \n",
    "        diff = end-start\n",
    "        times.append(diff.total_seconds())\n",
    "        print(\"predictability\", np.mean(predictability)*100, \"% in \", np.mean(times), \"seconds\")\n",
    "    "
   ]
  },
  {
   "cell_type": "code",
   "execution_count": 4,
   "id": "available-ordering",
   "metadata": {},
   "outputs": [
    {
     "name": "stdout",
     "output_type": "stream",
     "text": [
      "   col0  col1  col2  col3      col4      col5  col6\n",
      "0     2     1     4     1 -1.192015 -2.240433     0\n",
      "1     0     2     0     0  0.279775  0.095880     1\n",
      "2     0     1     1     1 -0.133345  0.153701     4\n",
      "3     3     0     2     4  0.046015  1.426200     3\n",
      "4     2     0     4     4 -1.621989  1.616562     4\n",
      "5     4     4     3     2  0.266292 -1.831204     2\n",
      "6     1     3     0     3  1.119712  0.942850     3\n",
      "7     3     3     2     3  0.326737 -0.853612     2\n",
      "8     1     2     3     0 -0.507728 -1.609501     0\n",
      "9     4     4     1     2  0.444330 -1.281322     1\n"
     ]
    }
   ],
   "source": [
    "\n",
    "df = se.MakeClassification(n_samples=10)\n",
    "print(df)\n"
   ]
  },
  {
   "cell_type": "code",
   "execution_count": 7,
   "metadata": {},
   "outputs": [
    {
     "name": "stdout",
     "output_type": "stream",
     "text": [
      "   col0  col1  col2  col3      col4      col5  col6\n",
      "0     2     4     2     3  0.078237 -1.119176     3\n",
      "1     3     0     1     1 -1.106348  1.585029     2\n",
      "2     3     3     1     4 -1.626640  0.698930     3\n",
      "3     0     1     2     3  0.088521  0.424936     0\n",
      "4     1     1     3     1  1.241425 -0.016564     4\n",
      "5     2     2     3     0  1.429452 -1.056793     1\n",
      "6     4     0     0     4 -2.785055  2.598994     2\n",
      "7     1     4     4     0  1.777704 -1.965593     1\n",
      "8     0     3     4     2  1.464002 -1.170744     0\n",
      "9     4     2     0     2 -1.901078  0.842629     4\n",
      "   col0  col1  col2  col3      col4      col5  col6\n",
      "0     3     1     4     1  0.795734 -0.127893     0\n",
      "1     4     4     0     2 -2.356138 -1.666287     1\n",
      "2     1     0     2     1  0.595274 -1.887653     4\n",
      "3     4     4     0     2 -2.517668 -1.094165     4\n",
      "4     4     2     4     4 -2.732437 -0.122905     0\n",
      "5     1     1     3     1  0.957556  1.876948     3\n",
      "6     1     3     2     1  0.011491 -1.626635     0\n",
      "7     4     0     1     1 -0.664073 -1.182328     3\n",
      "8     1     4     3     1  0.187913 -1.880632     1\n",
      "9     1     4     1     4 -1.509885 -0.829464     0 \n",
      "    col0  col1   col2  col3  col4  col5  col6\n",
      "0  True  True   True  True  True  True  True\n",
      "1  True  True   True  True  True  True  True\n",
      "2  True  True   True  True  True  True  True\n",
      "3  True  True   True  True  True  True  True\n",
      "4  True  True   True  True  True  True  True\n",
      "5  True  True  False  True  True  True  True\n",
      "6  True  True   True  True  True  True  True\n",
      "7  True  True   True  True  True  True  True\n",
      "8  True  True   True  True  True  True  True\n",
      "9  True  True   True  True  True  True  True\n"
     ]
    }
   ],
   "source": [
    "df = se.MakeClassification(n_samples=10)\n",
    "print(df)\n",
    "df, boolChanged = se.CreateErrors(df, quantity=69)\n",
    "print(df, '\\n', boolChanged)"
   ]
  },
  {
   "cell_type": "code",
   "execution_count": null,
   "metadata": {},
   "outputs": [],
   "source": []
  }
 ],
 "metadata": {
  "kernelspec": {
   "display_name": "Python 3",
   "language": "python",
   "name": "python3"
  },
  "language_info": {
   "codemirror_mode": {
    "name": "ipython",
    "version": 3
   },
   "file_extension": ".py",
   "mimetype": "text/x-python",
   "name": "python",
   "nbconvert_exporter": "python",
   "pygments_lexer": "ipython3",
   "version": "3.6.9"
  }
 },
 "nbformat": 4,
 "nbformat_minor": 5
}
