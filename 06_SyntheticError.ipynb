{
 "cells": [
  {
   "cell_type": "code",
   "execution_count": 1,
   "id": "postal-binary",
   "metadata": {},
   "outputs": [],
   "source": [
    "from datetime import datetime\n",
    "import numpy as np\n",
    "from SyntheticError import SyntheticError"
   ]
  },
  {
   "cell_type": "code",
   "execution_count": 2,
   "id": "loved-potter",
   "metadata": {},
   "outputs": [],
   "source": [
    "se = SyntheticError()"
   ]
  },
  {
   "cell_type": "code",
   "execution_count": null,
   "id": "champion-reservoir",
   "metadata": {
    "scrolled": true
   },
   "outputs": [
    {
     "name": "stdout",
     "output_type": "stream",
     "text": [
      "Samples: 30\n",
      "predictability 30.476190476190478 % in  1.903063 seconds\n",
      "predictability 32.142857142857146 % in  1.3493819999999999 seconds\n",
      "predictability 31.74603174603175 % in  1.1506786666666666 seconds\n",
      "predictability 31.071428571428573 % in  1.0400129999999999 seconds\n",
      "predictability 31.428571428571427 % in  0.9748975999999999 seconds\n",
      "Samples: 30\n",
      "predictability 39.04761904761905 % in  0.780669 seconds\n",
      "predictability 37.142857142857146 % in  0.7778544999999999 seconds\n",
      "predictability 35.714285714285715 % in  0.7751206666666666 seconds\n",
      "predictability 35.476190476190474 % in  0.7742272499999999 seconds\n",
      "predictability 34.95238095238095 % in  0.7775801999999999 seconds\n",
      "Samples: 100\n",
      "predictability 46.285714285714285 % in  1.271797 seconds\n",
      "predictability 47.357142857142854 % in  1.2864565 seconds\n",
      "predictability 47.38095238095237 % in  1.3032676666666665 seconds\n",
      "predictability 47.92857142857142 % in  1.28108775 seconds\n",
      "predictability 46.457142857142856 % in  1.2720061999999999 seconds\n",
      "Samples: 300\n",
      "predictability 53.85714285714286 % in  2.107874 seconds\n",
      "predictability 54.95238095238095 % in  2.099726 seconds\n",
      "predictability 53.82539682539682 % in  2.101466 seconds\n",
      "predictability 53.14285714285714 % in  2.10255275 seconds\n",
      "predictability 52.67619047619048 % in  2.102481 seconds\n",
      "Samples: 1000\n",
      "predictability 55.08571428571428 % in  5.800246 seconds\n",
      "predictability 54.15714285714286 % in  5.8660695 seconds\n",
      "predictability 54.58095238095238 % in  5.738148333333334 seconds\n",
      "predictability 55.05357142857144 % in  5.85667875 seconds\n",
      "predictability 55.79428571428572 % in  5.740336000000001 seconds\n",
      "Samples: 3000\n",
      "predictability 59.57619047619047 % in  10.714473 seconds\n",
      "predictability 60.18095238095238 % in  10.681895 seconds\n"
     ]
    }
   ],
   "source": [
    "samples = [30,30,100,300,1000,3000]  # First 30 is just to warm up the caches and should be ignored.\n",
    "for sample in samples:\n",
    "    print('Samples:', sample)\n",
    "    predictability = []\n",
    "    times = []    \n",
    "    # The loop will converge to more and more accurate estimate since we are averaging every element so far.\n",
    "    for i in range(5):\n",
    "        df = se.MakeClassification(n_samples = sample)\n",
    "        start = datetime.now()\n",
    "        predictability.append(se.HowPredictable(df))\n",
    "        end = datetime.now()   \n",
    "        diff = end-start\n",
    "        times.append(diff.total_seconds())\n",
    "        print(\"predictability\", np.mean(predictability)*100, \"% in \", np.mean(times), \"seconds\")\n",
    "    "
   ]
  },
  {
   "cell_type": "code",
   "execution_count": null,
   "id": "available-ordering",
   "metadata": {},
   "outputs": [],
   "source": [
    "\n",
    "df = se.MakeClassification(n_samples=10)\n",
    "print(df)\n"
   ]
  },
  {
   "cell_type": "code",
   "execution_count": null,
   "metadata": {},
   "outputs": [],
   "source": [
    "df = se.MakeClassification(n_samples=10)\n",
    "print(df)\n",
    "df, boolChanged = se.CreateErrors(df, quantity=69)\n",
    "print(df, '\\n', boolChanged)"
   ]
  },
  {
   "cell_type": "code",
   "execution_count": null,
   "metadata": {},
   "outputs": [],
   "source": []
  }
 ],
 "metadata": {
  "kernelspec": {
   "display_name": "Python 3",
   "language": "python",
   "name": "python3"
  },
  "language_info": {
   "codemirror_mode": {
    "name": "ipython",
    "version": 3
   },
   "file_extension": ".py",
   "mimetype": "text/x-python",
   "name": "python",
   "nbconvert_exporter": "python",
   "pygments_lexer": "ipython3",
   "version": "3.6.9"
  }
 },
 "nbformat": 4,
 "nbformat_minor": 5
}
