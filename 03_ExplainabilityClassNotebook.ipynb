{
 "cells": [
  {
   "cell_type": "code",
   "execution_count": 1,
   "metadata": {},
   "outputs": [],
   "source": [
    "import pandas as pd\n",
    "import numpy as np\n",
    "import scipy\n",
    "from TrainPredict import TrainPredict\n",
    "from CalcMeanStdPredictions import CalcMeanStdPredictions\n",
    "from SpotErrors import SpotErrors\n",
    "from Explain import Explain\n",
    "\n",
    "import logging\n",
    "import sys\n",
    "logging.basicConfig(stream=sys.stdout, level=logging.DEBUG, datefmt='%H:%M:%S', format='%(asctime)s.%(msecs)03d - %(filename)s:%(lineno)d - %(message)s')\n",
    "\n"
   ]
  },
  {
   "cell_type": "code",
   "execution_count": 2,
   "metadata": {},
   "outputs": [
    {
     "name": "stdout",
     "output_type": "stream",
     "text": [
      "    country currency manyvalues        rand  linear\n",
      "0   Germany      EUR          A  133.845604       0\n",
      "1   Germany      EUR          A  189.360149       1\n",
      "2   Germany      EUR          B  162.824986       2\n",
      "3   Germany      EUR          B  180.630220       3\n",
      "4   Germany      EUR          C  186.831025       4\n",
      "5   Germany      MXN          C  190.523503       5\n",
      "6        US      USD          D  140.441340       6\n",
      "7        US      USD          D  151.025412       7\n",
      "8        US      USD          E  191.384630       8\n",
      "9        US      USD          E  154.306509       9\n",
      "10       US      USD          E  110.585696      10\n",
      "11       UK      GBP          K  107.030452      11\n",
      "12       UK      GBP          L  139.148162      12\n",
      "13       UK      GBP          M  136.128330      13\n",
      "14       UK      GBP          N  156.376282      14\n",
      "15       UK      GBP          O  197.873220      15\n",
      "16      LUX      EUR          Z  121.707296      16\n",
      "17      LUX      EUR          Z  102.869967      17\n",
      "18      LUX      EUR          Z  133.583847      18\n",
      "19      LUX      EUR          Z  198.907213      19\n",
      "20      LUX      EUR          Y  145.381579      20\n"
     ]
    }
   ],
   "source": [
    "# Create simple dataframe\n",
    "data = { 'country': ['Germany','Germany','Germany','Germany','Germany', 'Germany',\n",
    "                     'US', 'US', 'US', 'US', 'US',\n",
    "                     'UK', 'UK', 'UK', 'UK', 'UK', \n",
    "                     'LUX','LUX','LUX','LUX','LUX'],\n",
    "         'currency':['EUR','EUR','EUR','EUR','EUR','MXN',\n",
    "                     'USD','USD','USD','USD','USD',\n",
    "                     'GBP','GBP','GBP','GBP','GBP',\n",
    "                     'EUR','EUR','EUR','EUR','EUR'],\n",
    "         'manyvalues':['A', 'A', 'B', 'B', 'C', 'C', 'D', 'D', 'E', 'E', 'E', 'K', 'L', 'M', 'N', 'O',\n",
    "                      'Z', 'Z', 'Z', 'Z', 'Y'],\n",
    "         'rand': [ np.random.uniform(100,200) for _ in range(21) ],\n",
    "         'linear': [ x for x in range(21) ]}\n",
    "   \n",
    "\n",
    "frame = pd.DataFrame(data)\n",
    "print(frame)"
   ]
  },
  {
   "cell_type": "code",
   "execution_count": null,
   "metadata": {},
   "outputs": [],
   "source": []
  },
  {
   "cell_type": "code",
   "execution_count": 3,
   "metadata": {},
   "outputs": [
    {
     "name": "stderr",
     "output_type": "stream",
     "text": [
      "C:\\Users\\will\\AppData\\Local\\Packages\\PythonSoftwareFoundation.Python.3.8_qbz5n2kfra8p0\\LocalCache\\local-packages\\Python38\\site-packages\\xgboost\\sklearn.py:888: UserWarning: The use of label encoder in XGBClassifier is deprecated and will be removed in a future release. To remove this warning, do the following: 1) Pass option use_label_encoder=False when constructing XGBClassifier object; and 2) Encode your labels (y) as integers starting with 0, i.e. 0, 1, 2, ..., [num_class - 1].\n",
      "  warnings.warn(label_encoder_deprecation_msg, UserWarning)\n"
     ]
    },
    {
     "name": "stdout",
     "output_type": "stream",
     "text": [
      "    manyvalues\n",
      "0        False\n",
      "1        False\n",
      "2        False\n",
      "3        False\n",
      "4        False\n",
      "5        False\n",
      "6        False\n",
      "7        False\n",
      "8        False\n",
      "9        False\n",
      "10       False\n",
      "11       False\n",
      "12       False\n",
      "13       False\n",
      "14       False\n",
      "15       False\n",
      "16       False\n",
      "17       False\n",
      "18       False\n",
      "19       False\n",
      "20        True\n",
      "First pass : found  1  errors in column  manyvalues\n",
      "2nd pass : row=20\n"
     ]
    },
    {
     "name": "stderr",
     "output_type": "stream",
     "text": [
      "C:\\Users\\will\\AppData\\Local\\Packages\\PythonSoftwareFoundation.Python.3.8_qbz5n2kfra8p0\\LocalCache\\local-packages\\Python38\\site-packages\\xgboost\\sklearn.py:888: UserWarning: The use of label encoder in XGBClassifier is deprecated and will be removed in a future release. To remove this warning, do the following: 1) Pass option use_label_encoder=False when constructing XGBClassifier object; and 2) Encode your labels (y) as integers starting with 0, i.e. 0, 1, 2, ..., [num_class - 1].\n",
      "  warnings.warn(label_encoder_deprecation_msg, UserWarning)\n"
     ]
    },
    {
     "name": "stdout",
     "output_type": "stream",
     "text": [
      "   manyvalues\n",
      "0        True\n",
      "  manyvalues\n",
      "0        [Z]\n",
      "['country_0' 'country_1' 'country_2' 'country_3' 'currency_0' 'currency_1'\n",
      " 'currency_2' 'currency_3' 'linear' 'rand']\n",
      "coldname country_0  fi:  0.22649064064025878\n",
      "coldname country_1  fi:  0.30013502240180967\n",
      "coldname country_2  fi:  0.0\n",
      "coldname country_3  fi:  0.20146542489528657\n",
      "coldname currency_0  fi:  0.1003602372482419\n",
      "coldname currency_1  fi:  0.0\n",
      "coldname currency_2  fi:  0.0\n",
      "coldname currency_3  fi:  0.0\n",
      "coldname linear  fi:  0.06051944941282272\n",
      "coldname rand  fi:  0.11102921590209007\n",
      "['country_0', 'country_1', 'country_3']\n"
     ]
    }
   ],
   "source": [
    "e = Explain()\n",
    "e.Explain(frame, 'manyvalues')"
   ]
  },
  {
   "cell_type": "code",
   "execution_count": null,
   "metadata": {},
   "outputs": [],
   "source": []
  },
  {
   "cell_type": "code",
   "execution_count": null,
   "metadata": {},
   "outputs": [],
   "source": []
  }
 ],
 "metadata": {
  "kernelspec": {
   "display_name": "Python 3",
   "language": "python",
   "name": "python3"
  },
  "language_info": {
   "codemirror_mode": {
    "name": "ipython",
    "version": 3
   },
   "file_extension": ".py",
   "mimetype": "text/x-python",
   "name": "python",
   "nbconvert_exporter": "python",
   "pygments_lexer": "ipython3",
   "version": "3.8.5"
  }
 },
 "nbformat": 4,
 "nbformat_minor": 4
}
