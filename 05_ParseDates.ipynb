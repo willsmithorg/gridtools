{
 "cells": [
  {
   "cell_type": "code",
   "execution_count": 1,
   "id": "champion-crack",
   "metadata": {},
   "outputs": [],
   "source": [
    "import pandas as pd\n",
    "import numpy as np\n",
    "import scipy\n",
    "from Column import Column\n",
    "from AddDerivedColumns import AddDerivedColumns\n",
    "\n",
    "import logging\n",
    "import sys\n",
    "logging.basicConfig(stream=sys.stdout, level=logging.INFO, datefmt='%H:%M:%S', format='%(asctime)s.%(msecs)03d - %(filename)s:%(lineno)d - %(message)s')"
   ]
  },
  {
   "cell_type": "code",
   "execution_count": 2,
   "id": "tutorial-bearing",
   "metadata": {},
   "outputs": [
    {
     "name": "stdout",
     "output_type": "stream",
     "text": [
      "AddDerivedColumns init start\n",
      "AddDerivedColumns init end: 6 derivers\n",
      "{<ColumnDeriver.Upper.ColumnDeriverUpper object at 0x00000288383290A0>, <ColumnDeriver.RobustScaler.ColumnDeriverRobustScaler object at 0x00000288476730A0>, <ColumnDeriver.MinMaxScaler.ColumnDeriverMinMaxScaler object at 0x0000028838329130>, <ColumnDeriver.Len.ColumnDeriverLen object at 0x0000028838329160>, <ColumnDeriver.Date.ColumnDeriverDate object at 0x0000028847673160>, <ColumnDeriver.Abs.ColumnDeriverAbs object at 0x0000028838329190>}\n",
      "considering len() on col1 its type is  object\n",
      " applying length to col1\n",
      " : got length\n",
      " : length has 3 unique elements\n",
      " applying date to col1\n",
      " : got date_year\n",
      " : date_year has 2 unique elements\n",
      " : got date_month\n",
      " : date_month has 3 unique elements\n",
      " : got date_day\n",
      " : date_day has 4 unique elements\n",
      "considering len() on col1.length its type is  int64\n",
      "considering len() on col1.date_year its type is  float64\n",
      "considering len() on col1.date_month its type is  float64\n",
      "considering len() on col1.date_day its type is  float64\n"
     ]
    }
   ],
   "source": [
    "col1 = Column(pd.Series(['20200101', '20200320', 'contains 20210116',  '20201231', 'bad'], name='col1'))\n",
    "adc = AddDerivedColumns()\n",
    "print(adc.allderivers)\n",
    "newcols = adc.Process(col1)\n"
   ]
  },
  {
   "cell_type": "code",
   "execution_count": 3,
   "id": "nominated-climate",
   "metadata": {},
   "outputs": [
    {
     "name": "stdout",
     "output_type": "stream",
     "text": [
      "Name : col1.length\n",
      "Size : 5\n",
      "Dtype : int64\n",
      "Depth : 1\n",
      "Children: []\n",
      "Parent: col1\n",
      "0     8\n",
      "1     8\n",
      "2    17\n",
      "3     8\n",
      "4     3\n",
      "Name: col1.length, dtype: int64\n",
      "Name : col1.date_year\n",
      "Size : 5\n",
      "Dtype : float64\n",
      "Depth : 1\n",
      "Children: []\n",
      "Parent: col1\n",
      "0    2020.0\n",
      "1    2020.0\n",
      "2    2021.0\n",
      "3    2020.0\n",
      "4       NaN\n",
      "Name: col1.date_year, dtype: float64\n",
      "Name : col1.date_month\n",
      "Size : 5\n",
      "Dtype : float64\n",
      "Depth : 1\n",
      "Children: []\n",
      "Parent: col1\n",
      "0     1.0\n",
      "1     3.0\n",
      "2     1.0\n",
      "3    12.0\n",
      "4     NaN\n",
      "Name: col1.date_month, dtype: float64\n",
      "Name : col1.date_day\n",
      "Size : 5\n",
      "Dtype : float64\n",
      "Depth : 1\n",
      "Children: []\n",
      "Parent: col1\n",
      "0     1.0\n",
      "1    20.0\n",
      "2    16.0\n",
      "3    31.0\n",
      "4     NaN\n",
      "Name: col1.date_day, dtype: float64\n"
     ]
    }
   ],
   "source": [
    "for col in newcols:\n",
    "    print(col)\n"
   ]
  },
  {
   "cell_type": "code",
   "execution_count": 4,
   "id": "independent-mixture",
   "metadata": {},
   "outputs": [
    {
     "name": "stdout",
     "output_type": "stream",
     "text": [
      "considering len() on col2 its type is  object\n",
      " applying length to col2\n",
      " : got length\n",
      " : length has 3 unique elements\n",
      " applying date to col2\n",
      " : got date_year\n",
      " : date_year has 4 unique elements\n",
      " : got date_month\n",
      " : date_month has 2 unique elements\n",
      " : got date_day\n",
      " : date_day has 4 unique elements\n",
      "considering len() on col2.length its type is  int64\n",
      "considering len() on col2.date_year its type is  float64\n",
      "considering len() on col2.date_month its type is  float64\n",
      "considering len() on col2.date_day its type is  float64\n",
      "Name : col2.length\n",
      "Size : 5\n",
      "Dtype : int64\n",
      "Depth : 1\n",
      "Children: []\n",
      "Parent: col2\n",
      "0     8\n",
      "1     8\n",
      "2     8\n",
      "3    10\n",
      "4     6\n",
      "Name: col2.length, dtype: int64\n",
      "Name : col2.date_year\n",
      "Size : 5\n",
      "Dtype : float64\n",
      "Depth : 1\n",
      "Children: []\n",
      "Parent: col2\n",
      "0    2020.0\n",
      "1    1999.0\n",
      "2    2051.0\n",
      "3    2130.0\n",
      "4       NaN\n",
      "Name: col2.date_year, dtype: float64\n",
      "Name : col2.date_month\n",
      "Size : 5\n",
      "Dtype : float64\n",
      "Depth : 1\n",
      "Children: []\n",
      "Parent: col2\n",
      "0    1.0\n",
      "1    3.0\n",
      "2    1.0\n",
      "3    1.0\n",
      "4    NaN\n",
      "Name: col2.date_month, dtype: float64\n",
      "Name : col2.date_day\n",
      "Size : 5\n",
      "Dtype : float64\n",
      "Depth : 1\n",
      "Children: []\n",
      "Parent: col2\n",
      "0     1.0\n",
      "1    20.0\n",
      "2    16.0\n",
      "3    31.0\n",
      "4     NaN\n",
      "Name: col2.date_day, dtype: float64\n"
     ]
    }
   ],
   "source": [
    "col2 = Column(pd.Series(['20-01-01', '99-03-20', '51-01-16',  '2130-01-31', 'nodate'], name='col2'))\n",
    "newcols = adc.Process(col2)\n",
    "for col in newcols:\n",
    "    print(col)"
   ]
  },
  {
   "cell_type": "code",
   "execution_count": 5,
   "id": "invalid-cotton",
   "metadata": {},
   "outputs": [
    {
     "data": {
      "text/plain": [
       "0"
      ]
     },
     "execution_count": 5,
     "metadata": {},
     "output_type": "execute_result"
    }
   ],
   "source": [
    "int()"
   ]
  }
 ],
 "metadata": {
  "kernelspec": {
   "display_name": "Python 3",
   "language": "python",
   "name": "python3"
  },
  "language_info": {
   "codemirror_mode": {
    "name": "ipython",
    "version": 3
   },
   "file_extension": ".py",
   "mimetype": "text/x-python",
   "name": "python",
   "nbconvert_exporter": "python",
   "pygments_lexer": "ipython3",
   "version": "3.8.8"
  }
 },
 "nbformat": 4,
 "nbformat_minor": 5
}
