{
 "cells": [
  {
   "cell_type": "code",
   "execution_count": 1,
   "id": "suitable-crazy",
   "metadata": {},
   "outputs": [],
   "source": [
    "import pandas as pd\n",
    "from TrainPredict import TrainPredict\n"
   ]
  },
  {
   "cell_type": "code",
   "execution_count": 2,
   "id": "offshore-collins",
   "metadata": {},
   "outputs": [],
   "source": [
    "data = {'x1': [100,100,100,100,100,100,100,100,     200,200,200,200,200,200,200,200 ],\n",
    "        'x2': [1,2,1,2,1,2,1,2,                      1,2,1,2,1,2,1,2 ],\n",
    "        'y': [1.0,1.0,1.0,1.0,1.0,1.0,1.0,1.0,                6.0,5.0,6.0,4.5,6.0,4.0,6.0,10.0]}\n",
    "\n",
    "frame = pd.DataFrame(data)\n",
    "\n"
   ]
  },
  {
   "cell_type": "code",
   "execution_count": 3,
   "id": "dense-hebrew",
   "metadata": {},
   "outputs": [],
   "source": [
    "trainPredict = TrainPredict(frame)"
   ]
  },
  {
   "cell_type": "code",
   "execution_count": 4,
   "id": "incomplete-deviation",
   "metadata": {},
   "outputs": [
    {
     "name": "stderr",
     "output_type": "stream",
     "text": [
      "C:\\Users\\will\\AppData\\Local\\Packages\\PythonSoftwareFoundation.Python.3.8_qbz5n2kfra8p0\\LocalCache\\local-packages\\Python38\\site-packages\\xgboost\\sklearn.py:888: UserWarning: The use of label encoder in XGBClassifier is deprecated and will be removed in a future release. To remove this warning, do the following: 1) Pass option use_label_encoder=False when constructing XGBClassifier object; and 2) Encode your labels (y) as integers starting with 0, i.e. 0, 1, 2, ..., [num_class - 1].\n",
      "  warnings.warn(label_encoder_deprecation_msg, UserWarning)\n"
     ]
    }
   ],
   "source": [
    "trainPredict.Train()"
   ]
  },
  {
   "cell_type": "code",
   "execution_count": 5,
   "id": "deadly-morocco",
   "metadata": {},
   "outputs": [],
   "source": [
    "_ = trainPredict.Predict()"
   ]
  },
  {
   "cell_type": "code",
   "execution_count": 6,
   "id": "visible-weight",
   "metadata": {},
   "outputs": [
    {
     "name": "stdout",
     "output_type": "stream",
     "text": [
      "[[False False False]\n",
      " [False False False]\n",
      " [False False False]\n",
      " [False False False]\n",
      " [False False False]\n",
      " [False False False]\n",
      " [False False False]\n",
      " [False False False]\n",
      " [False False False]\n",
      " [False False False]\n",
      " [False False False]\n",
      " [False False False]\n",
      " [False False False]\n",
      " [False False False]\n",
      " [False False False]\n",
      " [False False  True]]\n"
     ]
    }
   ],
   "source": [
    "print(trainPredict.SpotErrors())"
   ]
  },
  {
   "cell_type": "code",
   "execution_count": 7,
   "id": "guided-reputation",
   "metadata": {},
   "outputs": [
    {
     "name": "stdout",
     "output_type": "stream",
     "text": [
      "[0,0] actual:100.0 prediction:110.0 (stdev 30.0)\n",
      "[1,0] actual:100.0 prediction:110.0 (stdev 30.0)\n",
      "[2,0] actual:100.0 prediction:110.0 (stdev 30.0)\n",
      "[3,0] actual:100.0 prediction:110.0 (stdev 30.0)\n",
      "[4,0] actual:100.0 prediction:110.0 (stdev 30.0)\n",
      "[5,0] actual:100.0 prediction:110.0 (stdev 30.0)\n",
      "[6,0] actual:100.0 prediction:110.0 (stdev 30.0)\n",
      "[7,0] actual:100.0 prediction:110.0 (stdev 30.0)\n",
      "[8,0] actual:200.0 prediction:190.0 (stdev 30.0)\n",
      "[9,0] actual:200.0 prediction:190.0 (stdev 30.0)\n",
      "[10,0] actual:200.0 prediction:190.0 (stdev 30.0)\n",
      "[11,0] actual:200.0 prediction:190.0 (stdev 30.0)\n",
      "[12,0] actual:200.0 prediction:190.0 (stdev 30.0)\n",
      "[13,0] actual:200.0 prediction:190.0 (stdev 30.0)\n",
      "[14,0] actual:200.0 prediction:190.0 (stdev 30.0)\n",
      "[15,0] actual:200.0 prediction:190.0 (stdev 30.0)\n",
      "[0,1] actual:1.0 prediction:1.4 (stdev 0.48989794855663565)\n",
      "[1,1] actual:2.0 prediction:1.4 (stdev 0.48989794855663565)\n",
      "[2,1] actual:1.0 prediction:1.4 (stdev 0.48989794855663565)\n",
      "[3,1] actual:2.0 prediction:1.4 (stdev 0.48989794855663565)\n",
      "[4,1] actual:1.0 prediction:1.4 (stdev 0.48989794855663565)\n",
      "[5,1] actual:2.0 prediction:1.4 (stdev 0.48989794855663565)\n",
      "[6,1] actual:1.0 prediction:1.4 (stdev 0.48989794855663565)\n",
      "[7,1] actual:2.0 prediction:1.4 (stdev 0.48989794855663565)\n",
      "[8,1] actual:1.0 prediction:1.2 (stdev 0.4)\n",
      "[9,1] actual:2.0 prediction:1.2 (stdev 0.4)\n",
      "[10,1] actual:1.0 prediction:1.2 (stdev 0.4)\n",
      "[11,1] actual:2.0 prediction:1.4 (stdev 0.48989794855663565)\n",
      "[12,1] actual:1.0 prediction:1.2 (stdev 0.4)\n",
      "[13,1] actual:2.0 prediction:1.5 (stdev 0.5)\n",
      "[14,1] actual:1.0 prediction:1.2 (stdev 0.4)\n",
      "[15,1] actual:2.0 prediction:1.2 (stdev 0.4)\n",
      "[0,2] actual:1.0 prediction:1.0 (stdev 0.0)\n",
      "[1,2] actual:1.0 prediction:1.0 (stdev 0.0)\n",
      "[2,2] actual:1.0 prediction:1.0 (stdev 0.0)\n",
      "[3,2] actual:1.0 prediction:1.0 (stdev 0.0)\n",
      "[4,2] actual:1.0 prediction:1.0 (stdev 0.0)\n",
      "[5,2] actual:1.0 prediction:1.0 (stdev 0.0)\n",
      "[6,2] actual:1.0 prediction:1.0 (stdev 0.0)\n",
      "[7,2] actual:1.0 prediction:1.0 (stdev 0.0)\n",
      "[8,2] actual:6.0 prediction:6.0 (stdev 0.0)\n",
      "[9,2] actual:5.0 prediction:4.55 (stdev 0.7566372975210778)\n",
      "[10,2] actual:6.0 prediction:6.0 (stdev 0.0)\n",
      "[11,2] actual:4.5 prediction:4.55 (stdev 0.7566372975210778)\n",
      "[12,2] actual:6.0 prediction:6.0 (stdev 0.0)\n",
      "[13,2] actual:4.0 prediction:4.55 (stdev 0.7566372975210778)\n",
      "[14,2] actual:6.0 prediction:6.0 (stdev 0.0)\n",
      "[15,2] actual:10.0 prediction:4.55 (stdev 0.7566372975210778)  <---- DIFF\n"
     ]
    }
   ],
   "source": [
    "trainPredict.PrintErrors()"
   ]
  },
  {
   "cell_type": "code",
   "execution_count": null,
   "id": "empty-delicious",
   "metadata": {},
   "outputs": [],
   "source": []
  }
 ],
 "metadata": {
  "kernelspec": {
   "display_name": "Python 3",
   "language": "python",
   "name": "python3"
  },
  "language_info": {
   "codemirror_mode": {
    "name": "ipython",
    "version": 3
   },
   "file_extension": ".py",
   "mimetype": "text/x-python",
   "name": "python",
   "nbconvert_exporter": "python",
   "pygments_lexer": "ipython3",
   "version": "3.8.5"
  }
 },
 "nbformat": 4,
 "nbformat_minor": 5
}
