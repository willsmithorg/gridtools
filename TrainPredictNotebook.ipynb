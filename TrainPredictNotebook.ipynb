{
 "cells": [
  {
   "cell_type": "code",
   "execution_count": 1,
   "id": "suitable-crazy",
   "metadata": {},
   "outputs": [],
   "source": [
    "import pandas as pd\n",
    "from TrainPredict import TrainPredict\n"
   ]
  },
  {
   "cell_type": "code",
   "execution_count": 2,
   "id": "offshore-collins",
   "metadata": {},
   "outputs": [],
   "source": [
    "data = {'x1': [100,100,100,100,100,100,100,100,     200,200,200,200,200,200,200,200 ],\n",
    "        'x2': [1,2,1,2,1,2,1,2,                      1,2,1,2,1,2,1,2 ],\n",
    "        'y': [1.0,1.0,1.0,1.0,1.0,1.0,1.0,1.0,                6.0,5.0,6.0,5.0,6.0,5.0,6.0,10.0]}\n",
    "\n",
    "frame = pd.DataFrame(data)\n",
    "\n"
   ]
  },
  {
   "cell_type": "code",
   "execution_count": 3,
   "id": "visible-weight",
   "metadata": {},
   "outputs": [
    {
     "name": "stdout",
     "output_type": "stream",
     "text": [
      "(16, 2)\n",
      "(16,)\n",
      "[21:12:24] WARNING: C:/Users/Administrator/workspace/xgboost-win64_release_1.3.0/src/learner.cc:1061: Starting in XGBoost 1.3.0, the default evaluation metric used with the objective 'binary:logistic' was changed from 'error' to 'logloss'. Explicitly set eval_metric if you'd like to restore the old behavior.\n",
      "(16, 2)\n",
      "(16,)\n",
      "[21:12:24] WARNING: C:/Users/Administrator/workspace/xgboost-win64_release_1.3.0/src/learner.cc:1061: Starting in XGBoost 1.3.0, the default evaluation metric used with the objective 'binary:logistic' was changed from 'error' to 'logloss'. Explicitly set eval_metric if you'd like to restore the old behavior.\n",
      "(16, 2)\n",
      "(16,)\n",
      "[21:12:24] WARNING: C:/Users/Administrator/workspace/xgboost-win64_release_1.3.0/src/learner.cc:1061: Starting in XGBoost 1.3.0, the default evaluation metric used with the objective 'multi:softprob' was changed from 'merror' to 'mlogloss'. Explicitly set eval_metric if you'd like to restore the old behavior.\n"
     ]
    },
    {
     "name": "stderr",
     "output_type": "stream",
     "text": [
      "C:\\Users\\will\\AppData\\Local\\Packages\\PythonSoftwareFoundation.Python.3.8_qbz5n2kfra8p0\\LocalCache\\local-packages\\Python38\\site-packages\\xgboost\\sklearn.py:888: UserWarning: The use of label encoder in XGBClassifier is deprecated and will be removed in a future release. To remove this warning, do the following: 1) Pass option use_label_encoder=False when constructing XGBClassifier object; and 2) Encode your labels (y) as integers starting with 0, i.e. 0, 1, 2, ..., [num_class - 1].\n",
      "  warnings.warn(label_encoder_deprecation_msg, UserWarning)\n"
     ]
    },
    {
     "name": "stdout",
     "output_type": "stream",
     "text": [
      "[0,0] actual:100.0 prediction:100.0\n",
      "[1,0] actual:100.0 prediction:100.0\n",
      "[2,0] actual:100.0 prediction:100.0\n",
      "[3,0] actual:100.0 prediction:100.0\n",
      "[4,0] actual:100.0 prediction:100.0\n",
      "[5,0] actual:100.0 prediction:100.0\n",
      "[6,0] actual:100.0 prediction:100.0\n",
      "[7,0] actual:100.0 prediction:100.0\n",
      "[8,0] actual:200.0 prediction:200.0\n",
      "[9,0] actual:200.0 prediction:200.0\n",
      "[10,0] actual:200.0 prediction:200.0\n",
      "[11,0] actual:200.0 prediction:200.0\n",
      "[12,0] actual:200.0 prediction:200.0\n",
      "[13,0] actual:200.0 prediction:200.0\n",
      "[14,0] actual:200.0 prediction:200.0\n",
      "[15,0] actual:200.0 prediction:200.0\n",
      "[0,1] actual:1.0 prediction:2.0    <--- DIFF\n",
      "[1,1] actual:2.0 prediction:2.0\n",
      "[2,1] actual:1.0 prediction:2.0    <--- DIFF\n",
      "[3,1] actual:2.0 prediction:2.0\n",
      "[4,1] actual:1.0 prediction:2.0    <--- DIFF\n",
      "[5,1] actual:2.0 prediction:2.0\n",
      "[6,1] actual:1.0 prediction:2.0    <--- DIFF\n",
      "[7,1] actual:2.0 prediction:2.0\n",
      "[8,1] actual:1.0 prediction:1.0\n",
      "[9,1] actual:2.0 prediction:2.0\n",
      "[10,1] actual:1.0 prediction:1.0\n",
      "[11,1] actual:2.0 prediction:2.0\n",
      "[12,1] actual:1.0 prediction:1.0\n",
      "[13,1] actual:2.0 prediction:2.0\n",
      "[14,1] actual:1.0 prediction:1.0\n",
      "[15,1] actual:2.0 prediction:1.0    <--- DIFF\n",
      "[0,2] actual:1.0 prediction:1.0\n",
      "[1,2] actual:1.0 prediction:1.0\n",
      "[2,2] actual:1.0 prediction:1.0\n",
      "[3,2] actual:1.0 prediction:1.0\n",
      "[4,2] actual:1.0 prediction:1.0\n",
      "[5,2] actual:1.0 prediction:1.0\n",
      "[6,2] actual:1.0 prediction:1.0\n",
      "[7,2] actual:1.0 prediction:1.0\n",
      "[8,2] actual:6.0 prediction:6.0\n",
      "[9,2] actual:5.0 prediction:5.0\n",
      "[10,2] actual:6.0 prediction:6.0\n",
      "[11,2] actual:5.0 prediction:5.0\n",
      "[12,2] actual:6.0 prediction:6.0\n",
      "[13,2] actual:5.0 prediction:5.0\n",
      "[14,2] actual:6.0 prediction:6.0\n",
      "[15,2] actual:10.0 prediction:5.0    <--- DIFF\n"
     ]
    }
   ],
   "source": [
    "trainPredict = TrainPredict(frame)\n",
    "\n",
    "trainPredict.Train()\n",
    "\n",
    "trainPredict.Predict()"
   ]
  },
  {
   "cell_type": "code",
   "execution_count": 4,
   "id": "boxed-spokesman",
   "metadata": {},
   "outputs": [],
   "source": [
    "a = []\n"
   ]
  },
  {
   "cell_type": "code",
   "execution_count": 5,
   "id": "integral-fortune",
   "metadata": {},
   "outputs": [
    {
     "ename": "IndexError",
     "evalue": "list assignment index out of range",
     "output_type": "error",
     "traceback": [
      "\u001b[1;31m---------------------------------------------------------------------------\u001b[0m",
      "\u001b[1;31mIndexError\u001b[0m                                Traceback (most recent call last)",
      "\u001b[1;32m<ipython-input-5-e3464f018f03>\u001b[0m in \u001b[0;36m<module>\u001b[1;34m\u001b[0m\n\u001b[1;32m----> 1\u001b[1;33m \u001b[0ma\u001b[0m\u001b[1;33m[\u001b[0m\u001b[1;36m1\u001b[0m\u001b[1;33m]\u001b[0m\u001b[1;33m=\u001b[0m\u001b[1;36m2\u001b[0m\u001b[1;33m\u001b[0m\u001b[1;33m\u001b[0m\u001b[0m\n\u001b[0m",
      "\u001b[1;31mIndexError\u001b[0m: list assignment index out of range"
     ]
    }
   ],
   "source": [
    "a[1]=2"
   ]
  },
  {
   "cell_type": "code",
   "execution_count": 6,
   "id": "alien-frame",
   "metadata": {},
   "outputs": [],
   "source": [
    "a.append(0)"
   ]
  },
  {
   "cell_type": "code",
   "execution_count": 7,
   "id": "pharmaceutical-liability",
   "metadata": {},
   "outputs": [
    {
     "data": {
      "text/plain": [
       "[0]"
      ]
     },
     "execution_count": 7,
     "metadata": {},
     "output_type": "execute_result"
    }
   ],
   "source": [
    "a"
   ]
  },
  {
   "cell_type": "code",
   "execution_count": 8,
   "id": "smooth-contrary",
   "metadata": {},
   "outputs": [],
   "source": [
    "a[0]=3"
   ]
  },
  {
   "cell_type": "code",
   "execution_count": null,
   "id": "manufactured-hanging",
   "metadata": {},
   "outputs": [],
   "source": []
  }
 ],
 "metadata": {
  "kernelspec": {
   "display_name": "Python 3",
   "language": "python",
   "name": "python3"
  },
  "language_info": {
   "codemirror_mode": {
    "name": "ipython",
    "version": 3
   },
   "file_extension": ".py",
   "mimetype": "text/x-python",
   "name": "python",
   "nbconvert_exporter": "python",
   "pygments_lexer": "ipython3",
   "version": "3.8.5"
  }
 },
 "nbformat": 4,
 "nbformat_minor": 5
}
