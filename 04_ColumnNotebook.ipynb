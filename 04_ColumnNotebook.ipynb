{
 "cells": [
  {
   "cell_type": "code",
   "execution_count": 1,
   "id": "portable-correlation",
   "metadata": {},
   "outputs": [
    {
     "name": "stdout",
     "output_type": "stream",
     "text": [
      "Name : ser1\n",
      "Size : 3\n",
      "Dtype : object\n",
      "Depth : 0\n",
      "Children: []\n",
      "Parent: -\n",
      "\n"
     ]
    }
   ],
   "source": [
    "import pandas as pd\n",
    "import numpy as np\n",
    "import scipy\n",
    "from Column import Column\n",
    "\n",
    "import logging\n",
    "import sys\n",
    "logging.basicConfig(stream=sys.stdout, level=logging.DEBUG, datefmt='%H:%M:%S', format='%(asctime)s.%(msecs)03d - %(filename)s:%(lineno)d - %(message)s')\n",
    "\n",
    "ser1 = pd.Series(['abc','def', 'ghij'], name='ser1')\n",
    "col1 = Column(ser1)\n",
    "\n",
    "print(col1)\n"
   ]
  },
  {
   "cell_type": "code",
   "execution_count": 2,
   "id": "powerful-speed",
   "metadata": {},
   "outputs": [
    {
     "name": "stdout",
     "output_type": "stream",
     "text": [
      "Name : ser2\n",
      "Size : 3\n",
      "Dtype : int64\n",
      "Depth : 0\n",
      "Children: []\n",
      "Parent: -\n",
      "\n"
     ]
    }
   ],
   "source": [
    "ser2 = pd.Series([1,2,3], name='ser2')\n",
    "col2 = Column(ser2)\n",
    "print(col2)\n"
   ]
  },
  {
   "cell_type": "code",
   "execution_count": 3,
   "id": "incorporated-penguin",
   "metadata": {},
   "outputs": [
    {
     "name": "stdout",
     "output_type": "stream",
     "text": [
      "Name : ser1\n",
      "Size : 3\n",
      "Dtype : object\n",
      "Depth : 0\n",
      "Children: [ser2]\n",
      "Parent: -\n",
      "\n",
      "Name : ser2\n",
      "Size : 3\n",
      "Dtype : int64\n",
      "Depth : 1\n",
      "Children: []\n",
      "Parent: ser1\n",
      "\n"
     ]
    }
   ],
   "source": [
    "col1.MakeChild(col2)\n",
    "print(col1)\n",
    "print(col2)"
   ]
  },
  {
   "cell_type": "code",
   "execution_count": null,
   "id": "actual-surfing",
   "metadata": {},
   "outputs": [],
   "source": []
  }
 ],
 "metadata": {
  "kernelspec": {
   "display_name": "Python 3",
   "language": "python",
   "name": "python3"
  },
  "language_info": {
   "codemirror_mode": {
    "name": "ipython",
    "version": 3
   },
   "file_extension": ".py",
   "mimetype": "text/x-python",
   "name": "python",
   "nbconvert_exporter": "python",
   "pygments_lexer": "ipython3",
   "version": "3.8.8"
  }
 },
 "nbformat": 4,
 "nbformat_minor": 5
}
