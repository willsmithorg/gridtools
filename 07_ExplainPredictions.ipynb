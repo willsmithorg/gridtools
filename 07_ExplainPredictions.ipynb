{
 "cells": [
  {
   "cell_type": "code",
   "execution_count": 1,
   "metadata": {},
   "outputs": [],
   "source": [
    "import pandas as pd\n",
    "import numpy as np\n",
    "\n",
    "from TrainPredictSelf import TrainPredictSelf\n",
    "from InterpretPredictions import InterpretPredictions\n",
    "from ExplainPredictions import ExplainPredictions\n",
    "\n",
    "import logging\n",
    "import sys\n",
    "logging.basicConfig(stream=sys.stdout, level=logging.INFO, datefmt='%H:%M:%S', format='%(asctime)s.%(msecs)03d - %(filename)s:%(lineno)d - %(message)s')"
   ]
  },
  {
   "cell_type": "code",
   "execution_count": 2,
   "metadata": {},
   "outputs": [
    {
     "name": "stdout",
     "output_type": "stream",
     "text": [
      "    country currency manyvalues        rand  linear               city\n",
      "0   Germany      EUR          A  179.015394       0  Frankfurt am Main\n",
      "1   Germany      EUR          A  192.992884       1  Frankfurt am Main\n",
      "2   Germany      EUR          B  171.814989       2  Frankfurt am Main\n",
      "3   Germany      EUR          B  109.669376       3  Frankfurt am Main\n",
      "4   Germany      EUR          C  196.639554       4  Frankfurt am Main\n",
      "5   Germany      MXN          C  137.445375       5  Frankfurt am Main\n",
      "6        US      USD          D  123.185703       6        Los Angeles\n",
      "7        US      USD          D  187.781268       7        Los Angeles\n",
      "8        US      USD          E  138.760506       8        Los Angeles\n",
      "9        US      USD          E  153.586893       9        Los Angeles\n",
      "10       US      USD          E  144.314993      10        Los Angeles\n",
      "11       UK      GBP          K  126.552159      11             London\n",
      "12       UK      GBP          L  141.377238      12             London\n",
      "13  Germany      GBP          M  134.524554      13             London\n",
      "14       UK      GBP          N  157.714155      14             London\n",
      "15       UK      GBP          O  181.986140      15             London\n",
      "16      LUX      EUR          Z  130.259337      16         Luxembourg\n",
      "17      LUX      EUR          Z  152.687038      17         Luxembourg\n",
      "18      LUX      EUR          Z  116.782394      18         Luxembourg\n",
      "19      LUX      EUR          Z  187.529194      19         Luxembourg\n",
      "20      LUX      EUR          Y  168.611283      20                Bad\n"
     ]
    }
   ],
   "source": [
    "observed = { 'country': ['Germany','Germany','Germany','Germany','Germany', 'Germany',\n",
    "                     'US', 'US', 'US', 'US', 'US',\n",
    "                     'UK', 'UK', 'Germany', 'UK', 'UK', \n",
    "                     'LUX','LUX','LUX','LUX','LUX'],\n",
    "         'currency':['EUR','EUR','EUR','EUR','EUR','MXN',\n",
    "                     'USD','USD','USD','USD','USD',\n",
    "                     'GBP','GBP','GBP','GBP','GBP',\n",
    "                     'EUR','EUR','EUR','EUR','EUR'],\n",
    "         'manyvalues':['A', 'A', 'B', 'B', 'C', 'C', 'D', 'D', 'E', 'E', 'E', 'K', 'L', 'M', 'N', 'O',\n",
    "                      'Z', 'Z', 'Z', 'Z', 'Y'],\n",
    "         'rand': [ np.random.uniform(100,200) for _ in range(21) ],\n",
    "         'linear': [ x for x in range(21) ],\n",
    "         'city': ['Frankfurt am Main'] * 6 + ['Los Angeles'] * 5 + ['London'] * 5 + ['Luxembourg'] * 4 + ['Bad'] * 1}\n",
    "dfobserved = pd.DataFrame(observed) \n",
    "print(dfobserved)"
   ]
  },
  {
   "cell_type": "code",
   "execution_count": 3,
   "metadata": {},
   "outputs": [
    {
     "name": "stdout",
     "output_type": "stream",
     "text": [
      "    country currency manyvalues        rand  linear               city\n",
      "0   Germany      EUR          B  119.964357     2.0  Frankfurt am Main\n",
      "1   Germany      EUR          B  119.964357     2.0  Frankfurt am Main\n",
      "2   Germany      EUR          A  189.312847     2.0  Frankfurt am Main\n",
      "3   Germany      MXN          C  189.312847     2.0  Frankfurt am Main\n",
      "4   Germany      EUR          A  119.964357     6.0  Frankfurt am Main\n",
      "5   Germany      EUR          D  189.312847     6.0             London\n",
      "6        US      USD          E  189.312847    10.0        Los Angeles\n",
      "7        US      USD          E  119.964357     6.0        Los Angeles\n",
      "8        US      USD          E  149.545696    10.0        Los Angeles\n",
      "9        US      USD          E  149.545696    10.0        Los Angeles\n",
      "10       US      USD          E  149.545696    10.0        Los Angeles\n",
      "11  Germany      GBP          L  149.545696    14.0             London\n",
      "12       UK      GBP          E  119.964357    14.0             London\n",
      "13       UK      EUR          L  169.850147    14.0  Frankfurt am Main\n",
      "14       UK      GBP          L  189.312847    14.0             London\n",
      "15      LUX      GBP          N  169.850147    18.0             London\n",
      "16      LUX      EUR          Z  189.312847    18.0         Luxembourg\n",
      "17      LUX      EUR          Z  189.312847    18.0         Luxembourg\n",
      "18      LUX      EUR          Z  189.312847    18.0         Luxembourg\n",
      "19      LUX      EUR          Z  119.964357    18.0         Luxembourg\n",
      "20      LUX      EUR          Z  189.312847    18.0         Luxembourg\n",
      "    country  currency  manyvalues   rand  linear   city\n",
      "0     False     False       False  False   False  False\n",
      "1     False     False       False  False   False  False\n",
      "2     False     False       False  False   False  False\n",
      "3     False     False       False  False   False  False\n",
      "4     False     False       False  False   False  False\n",
      "5     False      True       False  False   False  False\n",
      "6     False     False       False  False   False  False\n",
      "7     False     False       False  False   False  False\n",
      "8     False     False       False  False   False  False\n",
      "9     False     False       False  False   False  False\n",
      "10    False     False       False  False   False  False\n",
      "11    False     False       False   True    True  False\n",
      "12    False     False       False  False   False  False\n",
      "13     True     False       False  False   False  False\n",
      "14    False     False       False  False   False  False\n",
      "15    False     False       False  False   False  False\n",
      "16    False     False       False  False    True  False\n",
      "17    False     False       False  False   False  False\n",
      "18    False     False       False   True   False  False\n",
      "19    False     False       False  False   False  False\n",
      "20    False     False       False  False   False   True\n"
     ]
    }
   ],
   "source": [
    "tps = TrainPredictSelf()\n",
    "results_labels, results_proba = tps.Train(dfobserved)\n",
    "\n",
    "ip = InterpretPredictions()\n",
    "dfpredicted, dfprobas = ip.SinglePredictionPerCell(results_labels, results_proba)\n",
    "dfBoolDifferences =  ip.boolDifferences(dfobserved, results_labels, results_proba)\n",
    "print(dfpredicted)\n",
    "print(dfBoolDifferences)\n"
   ]
  },
  {
   "cell_type": "code",
   "execution_count": 4,
   "metadata": {},
   "outputs": [
    {
     "name": "stdout",
     "output_type": "stream",
     "text": [
      "['Germany' 'LUX' 'UK' 'US'] \n",
      " [[0.04321751 0.04003536 0.8769222  0.03982493]] \n",
      " [('currency', 0.27125418), ('manyvalues', 0.2777115), ('rand', 0.00089120003), ('linear', 0.16927323), ('city', 0.28086984)]\n"
     ]
    }
   ],
   "source": [
    "results_labels, results_proba, results_feature_importances = tps.TrainPredictSingleCell('country', 13)\n",
    "print(results_labels, '\\n', results_proba, '\\n', results_feature_importances)"
   ]
  },
  {
   "cell_type": "code",
   "execution_count": 5,
   "metadata": {},
   "outputs": [],
   "source": [
    "ep = ExplainPredictions(tps, dfobserved, dfpredicted)"
   ]
  },
  {
   "cell_type": "code",
   "execution_count": 6,
   "metadata": {},
   "outputs": [
    {
     "name": "stdout",
     "output_type": "stream",
     "text": [
      "We think column country row 13 is wrong\n",
      "Observed :  Germany\n",
      "We think the most likely are:\n",
      "UK  :  87.69221901893616 %\n",
      "Germany  :  4.321750998497009 %\n",
      "LUX  :  4.003536328673363 %\n",
      "Reason1:\n",
      "\tWhen city = London , like this row\n",
      "\tThen:\n",
      "\t\t country is UK 80.0 % of the time\n",
      "\t\t country is Germany 20.0 % of the time\n",
      "Reason2:\n",
      "\tWhen city = London , and manyvalues = M ,like this row\n",
      "\tThen:\n",
      "\t\t country is Germany 100.0 % of the time\n"
     ]
    }
   ],
   "source": [
    "ep.ExplainOneDifference('country', 13)"
   ]
  },
  {
   "cell_type": "code",
   "execution_count": 7,
   "metadata": {},
   "outputs": [
    {
     "name": "stdout",
     "output_type": "stream",
     "text": [
      "We think column currency row 5 is wrong\n",
      "Observed :  MXN\n",
      "We think the most likely are:\n",
      "EUR  :  89.85338807106018 %\n",
      "MXN  :  5.566785484552383 %\n",
      "GBP  :  4.579824581742287 %\n",
      "Reason1:\n",
      "\tWhen country = Germany , like this row\n",
      "\tThen:\n",
      "\t\t currency is EUR 71.42857142857143 % of the time\n",
      "\t\t currency is MXN 14.285714285714285 % of the time\n",
      "\t\t currency is GBP 14.285714285714285 % of the time\n",
      "Reason2:\n",
      "\tWhen country = Germany , and city = Frankfurt am Main ,like this row\n",
      "\tThen:\n",
      "\t\t currency is EUR 83.33333333333334 % of the time\n",
      "\t\t currency is MXN 16.666666666666664 % of the time\n"
     ]
    }
   ],
   "source": [
    "ep.ExplainOneDifference('currency', 5)"
   ]
  },
  {
   "cell_type": "code",
   "execution_count": 8,
   "metadata": {},
   "outputs": [
    {
     "name": "stdout",
     "output_type": "stream",
     "text": [
      "We think column city row 20 is wrong\n",
      "Observed :  Bad\n",
      "We think the most likely are:\n",
      "Los Angeles  :  85.17017364501953 %\n",
      "Frankfurt am Main  :  7.9596541821956635 %\n",
      "Reason1:\n",
      "\tWhen currency = EUR , like this row\n",
      "\tThen:\n",
      "\t\t city is Frankfurt am Main 50.0 % of the time\n",
      "\t\t city is Luxembourg 40.0 % of the time\n",
      "\t\t city is Bad 10.0 % of the time\n",
      "Reason2:\n",
      "\tWhen currency = EUR , and country = LUX ,like this row\n",
      "\tThen:\n",
      "\t\t city is Luxembourg 80.0 % of the time\n",
      "\t\t city is Bad 20.0 % of the time\n"
     ]
    }
   ],
   "source": [
    "ep.ExplainOneDifference('city', 20)"
   ]
  },
  {
   "cell_type": "code",
   "execution_count": null,
   "metadata": {},
   "outputs": [],
   "source": []
  }
 ],
 "metadata": {
  "kernelspec": {
   "display_name": "Python 3",
   "language": "python",
   "name": "python3"
  },
  "language_info": {
   "codemirror_mode": {
    "name": "ipython",
    "version": 3
   },
   "file_extension": ".py",
   "mimetype": "text/x-python",
   "name": "python",
   "nbconvert_exporter": "python",
   "pygments_lexer": "ipython3",
   "version": "3.6.9"
  }
 },
 "nbformat": 4,
 "nbformat_minor": 2
}
