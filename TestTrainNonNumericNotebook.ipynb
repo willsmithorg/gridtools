{
 "cells": [
  {
   "cell_type": "code",
   "execution_count": 1,
   "metadata": {},
   "outputs": [],
   "source": [
    "import pandas as pd\n",
    "from MakeFrameNumeric import MakeFrameNumeric\n",
    "from TrainPredict import TrainPredict\n",
    "\n"
   ]
  },
  {
   "cell_type": "code",
   "execution_count": 22,
   "metadata": {},
   "outputs": [
    {
     "name": "stdout",
     "output_type": "stream",
     "text": [
      "    country currency\n",
      "0   Germany      EUR\n",
      "1   Germany      EUR\n",
      "2   Germany      EUR\n",
      "3   Germany      EUR\n",
      "4   Germany      MXN\n",
      "5        US      USD\n",
      "6        US      USD\n",
      "7        US      USD\n",
      "8        US      USD\n",
      "9        US      GBP\n",
      "10       UK      GBP\n",
      "11       UK      GBP\n",
      "12       UK      GBP\n",
      "13       UK      GBP\n",
      "14       UK      GBP\n"
     ]
    }
   ],
   "source": [
    "# Create simple dataframe\n",
    "data = { 'country': ['Germany','Germany','Germany','Germany','Germany',\n",
    "                     'US', 'US', 'US', 'US', 'US',\n",
    "                     'UK', 'UK', 'UK', 'UK', 'UK'],\n",
    "         'currency':['EUR','EUR','EUR','EUR','MXN',\n",
    "                     'USD','USD','USD','USD','GBP',\n",
    "                     'GBP','GBP','GBP','GBP','GBP']}\n",
    "   \n",
    "\n",
    "frame = pd.DataFrame(data)\n",
    "print(frame)"
   ]
  },
  {
   "cell_type": "code",
   "execution_count": 23,
   "metadata": {},
   "outputs": [],
   "source": [
    "mfn = MakeFrameNumeric(frame)"
   ]
  },
  {
   "cell_type": "code",
   "execution_count": 24,
   "metadata": {},
   "outputs": [
    {
     "name": "stdout",
     "output_type": "stream",
     "text": [
      "    country_0  country_1  country_2  currency_0  currency_1  currency_2  \\\n",
      "0         1.0        0.0        0.0         1.0         0.0         0.0   \n",
      "1         1.0        0.0        0.0         1.0         0.0         0.0   \n",
      "2         1.0        0.0        0.0         1.0         0.0         0.0   \n",
      "3         1.0        0.0        0.0         1.0         0.0         0.0   \n",
      "4         1.0        0.0        0.0         0.0         0.0         1.0   \n",
      "5         0.0        0.0        1.0         0.0         0.0         0.0   \n",
      "6         0.0        0.0        1.0         0.0         0.0         0.0   \n",
      "7         0.0        0.0        1.0         0.0         0.0         0.0   \n",
      "8         0.0        0.0        1.0         0.0         0.0         0.0   \n",
      "9         0.0        0.0        1.0         0.0         1.0         0.0   \n",
      "10        0.0        1.0        0.0         0.0         1.0         0.0   \n",
      "11        0.0        1.0        0.0         0.0         1.0         0.0   \n",
      "12        0.0        1.0        0.0         0.0         1.0         0.0   \n",
      "13        0.0        1.0        0.0         0.0         1.0         0.0   \n",
      "14        0.0        1.0        0.0         0.0         1.0         0.0   \n",
      "\n",
      "    currency_3  \n",
      "0          0.0  \n",
      "1          0.0  \n",
      "2          0.0  \n",
      "3          0.0  \n",
      "4          0.0  \n",
      "5          1.0  \n",
      "6          1.0  \n",
      "7          1.0  \n",
      "8          1.0  \n",
      "9          0.0  \n",
      "10         0.0  \n",
      "11         0.0  \n",
      "12         0.0  \n",
      "13         0.0  \n",
      "14         0.0  \n"
     ]
    }
   ],
   "source": [
    "df = mfn.ConvertForXGBoost()\n",
    "print(df)"
   ]
  },
  {
   "cell_type": "code",
   "execution_count": 25,
   "metadata": {},
   "outputs": [
    {
     "name": "stderr",
     "output_type": "stream",
     "text": [
      "C:\\Users\\will\\AppData\\Local\\Packages\\PythonSoftwareFoundation.Python.3.8_qbz5n2kfra8p0\\LocalCache\\local-packages\\Python38\\site-packages\\xgboost\\sklearn.py:888: UserWarning: The use of label encoder in XGBClassifier is deprecated and will be removed in a future release. To remove this warning, do the following: 1) Pass option use_label_encoder=False when constructing XGBClassifier object; and 2) Encode your labels (y) as integers starting with 0, i.e. 0, 1, 2, ..., [num_class - 1].\n",
      "  warnings.warn(label_encoder_deprecation_msg, UserWarning)\n"
     ]
    },
    {
     "name": "stdout",
     "output_type": "stream",
     "text": [
      "[[False False False False False False False]\n",
      " [False False False False False False False]\n",
      " [False False False False False False False]\n",
      " [False False False False False False False]\n",
      " [False False False False False  True False]\n",
      " [False False False False False False  True]\n",
      " [False False False False False False  True]\n",
      " [False False False False False False  True]\n",
      " [False False False False False False  True]\n",
      " [False False  True False  True False False]\n",
      " [False False False False False False False]\n",
      " [False False False False False False False]\n",
      " [False False False False False False False]\n",
      " [False False False False False False False]\n",
      " [False False False False False False False]]\n"
     ]
    }
   ],
   "source": [
    "tp = TrainPredict(df)    \n",
    "print(tp.SpotErrors())"
   ]
  },
  {
   "cell_type": "code",
   "execution_count": 6,
   "metadata": {},
   "outputs": [
    {
     "data": {
      "text/plain": [
       "True"
      ]
     },
     "execution_count": 6,
     "metadata": {},
     "output_type": "execute_result"
    }
   ],
   "source": []
  },
  {
   "cell_type": "code",
   "execution_count": 7,
   "metadata": {},
   "outputs": [
    {
     "name": "stdout",
     "output_type": "stream",
     "text": [
      "<class 'pandas.core.frame.DataFrame'>\n"
     ]
    }
   ],
   "source": []
  },
  {
   "cell_type": "code",
   "execution_count": null,
   "metadata": {},
   "outputs": [],
   "source": []
  }
 ],
 "metadata": {
  "kernelspec": {
   "display_name": "Python 3",
   "language": "python",
   "name": "python3"
  },
  "language_info": {
   "codemirror_mode": {
    "name": "ipython",
    "version": 3
   },
   "file_extension": ".py",
   "mimetype": "text/x-python",
   "name": "python",
   "nbconvert_exporter": "python",
   "pygments_lexer": "ipython3",
   "version": "3.8.5"
  }
 },
 "nbformat": 4,
 "nbformat_minor": 4
}
