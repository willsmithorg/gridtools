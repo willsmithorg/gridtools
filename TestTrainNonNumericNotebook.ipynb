{
 "cells": [
  {
   "cell_type": "code",
   "execution_count": 1,
   "metadata": {},
   "outputs": [],
   "source": [
    "import pandas as pd\n",
    "from MakeFrameNumeric import MakeFrameNumeric\n",
    "from TrainPredict import TrainPredict\n",
    "\n"
   ]
  },
  {
   "cell_type": "code",
   "execution_count": 2,
   "metadata": {},
   "outputs": [
    {
     "name": "stdout",
     "output_type": "stream",
     "text": [
      "    country currency manyvalues\n",
      "0   Germany      EUR          A\n",
      "1   Germany      EUR          B\n",
      "2   Germany      EUR          C\n",
      "3   Germany      EUR          D\n",
      "4   Germany      MXN          E\n",
      "5        US      USD          F\n",
      "6        US      USD          G\n",
      "7        US      USD          H\n",
      "8        US      USD          I\n",
      "9        US      GBP          J\n",
      "10       UK      GBP          K\n",
      "11       UK      GBP          L\n",
      "12       UK      GBP          M\n",
      "13       UK      GBP          N\n",
      "14       UK      GBP          O\n"
     ]
    }
   ],
   "source": [
    "# Create simple dataframe\n",
    "data = { 'country': ['Germany','Germany','Germany','Germany','Germany',\n",
    "                     'US', 'US', 'US', 'US', 'US',\n",
    "                     'UK', 'UK', 'UK', 'UK', 'UK'],\n",
    "         'currency':['EUR','EUR','EUR','EUR','MXN',\n",
    "                     'USD','USD','USD','USD','GBP',\n",
    "                     'GBP','GBP','GBP','GBP','GBP'],\n",
    "         'manyvalues':['A', 'B', 'C', 'D', 'E', 'F', 'G', 'H', 'I', 'J', 'K', 'L', 'M', 'N', 'O']}\n",
    "   \n",
    "\n",
    "frame = pd.DataFrame(data)\n",
    "print(frame)"
   ]
  },
  {
   "cell_type": "code",
   "execution_count": 3,
   "metadata": {},
   "outputs": [],
   "source": [
    "mfn = MakeFrameNumeric(frame)"
   ]
  },
  {
   "cell_type": "code",
   "execution_count": 4,
   "metadata": {},
   "outputs": [
    {
     "name": "stdout",
     "output_type": "stream",
     "text": [
      "    country_0  country_1  country_2  currency_0  currency_1  currency_2  \\\n",
      "0         1.0        0.0        0.0         1.0         0.0         0.0   \n",
      "1         1.0        0.0        0.0         1.0         0.0         0.0   \n",
      "2         1.0        0.0        0.0         1.0         0.0         0.0   \n",
      "3         1.0        0.0        0.0         1.0         0.0         0.0   \n",
      "4         1.0        0.0        0.0         0.0         0.0         1.0   \n",
      "5         0.0        0.0        1.0         0.0         0.0         0.0   \n",
      "6         0.0        0.0        1.0         0.0         0.0         0.0   \n",
      "7         0.0        0.0        1.0         0.0         0.0         0.0   \n",
      "8         0.0        0.0        1.0         0.0         0.0         0.0   \n",
      "9         0.0        0.0        1.0         0.0         1.0         0.0   \n",
      "10        0.0        1.0        0.0         0.0         1.0         0.0   \n",
      "11        0.0        1.0        0.0         0.0         1.0         0.0   \n",
      "12        0.0        1.0        0.0         0.0         1.0         0.0   \n",
      "13        0.0        1.0        0.0         0.0         1.0         0.0   \n",
      "14        0.0        1.0        0.0         0.0         1.0         0.0   \n",
      "\n",
      "    currency_3  manyvalues  \n",
      "0          0.0           0  \n",
      "1          0.0           1  \n",
      "2          0.0           2  \n",
      "3          0.0           3  \n",
      "4          0.0           4  \n",
      "5          1.0           5  \n",
      "6          1.0           6  \n",
      "7          1.0           7  \n",
      "8          1.0           8  \n",
      "9          0.0           9  \n",
      "10         0.0          10  \n",
      "11         0.0          11  \n",
      "12         0.0          12  \n",
      "13         0.0          13  \n",
      "14         0.0          14  \n",
      "{'country_0': 'country', 'country_1': 'country', 'country_2': 'country', 'currency_0': 'currency', 'currency_1': 'currency', 'currency_2': 'currency', 'currency_3': 'currency', 'manyvalues': 'manyvalues'}\n",
      "{'country_0': 'Germany', 'country_1': 'UK', 'country_2': 'US', 'currency_0': 'EUR', 'currency_1': 'GBP', 'currency_2': 'MXN', 'currency_3': 'USD', 'manyvalues': {0: 'A', 1: 'B', 2: 'C', 3: 'D', 4: 'E', 5: 'F', 6: 'G', 7: 'H', 8: 'I', 9: 'J', 10: 'K', 11: 'L', 12: 'M', 13: 'N', 14: 'O'}}\n"
     ]
    }
   ],
   "source": [
    "df, colmap, featuremap = mfn.ConvertForXGBoost()\n",
    "print(df)\n",
    "print(colmap)\n",
    "print(featuremap)"
   ]
  },
  {
   "cell_type": "code",
   "execution_count": 5,
   "metadata": {},
   "outputs": [
    {
     "name": "stderr",
     "output_type": "stream",
     "text": [
      "C:\\Users\\will\\AppData\\Local\\Packages\\PythonSoftwareFoundation.Python.3.8_qbz5n2kfra8p0\\LocalCache\\local-packages\\Python38\\site-packages\\xgboost\\sklearn.py:888: UserWarning: The use of label encoder in XGBClassifier is deprecated and will be removed in a future release. To remove this warning, do the following: 1) Pass option use_label_encoder=False when constructing XGBClassifier object; and 2) Encode your labels (y) as integers starting with 0, i.e. 0, 1, 2, ..., [num_class - 1].\n",
      "  warnings.warn(label_encoder_deprecation_msg, UserWarning)\n"
     ]
    },
    {
     "name": "stdout",
     "output_type": "stream",
     "text": [
      "[[False False False False False False False False]\n",
      " [False False False False False False False False]\n",
      " [False False False False False False False False]\n",
      " [False False False False False False False  True]\n",
      " [False False False False False  True False  True]\n",
      " [False False False False False False  True  True]\n",
      " [False False False False False False  True  True]\n",
      " [False False False False False False  True  True]\n",
      " [False False False False False False  True  True]\n",
      " [False False False False False False False  True]\n",
      " [False False False False False False False  True]\n",
      " [False False False False False False False  True]\n",
      " [False False False False False False False  True]\n",
      " [False False False False False False False  True]\n",
      " [False False False False False False False  True]]\n"
     ]
    }
   ],
   "source": [
    "tp = TrainPredict(df)    \n",
    "print(tp.SpotErrors())"
   ]
  },
  {
   "cell_type": "code",
   "execution_count": null,
   "metadata": {},
   "outputs": [],
   "source": []
  },
  {
   "cell_type": "code",
   "execution_count": null,
   "metadata": {},
   "outputs": [],
   "source": []
  },
  {
   "cell_type": "code",
   "execution_count": null,
   "metadata": {},
   "outputs": [],
   "source": []
  }
 ],
 "metadata": {
  "kernelspec": {
   "display_name": "Python 3",
   "language": "python",
   "name": "python3"
  },
  "language_info": {
   "codemirror_mode": {
    "name": "ipython",
    "version": 3
   },
   "file_extension": ".py",
   "mimetype": "text/x-python",
   "name": "python",
   "nbconvert_exporter": "python",
   "pygments_lexer": "ipython3",
   "version": "3.8.5"
  }
 },
 "nbformat": 4,
 "nbformat_minor": 4
}
