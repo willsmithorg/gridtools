{
 "cells": [
  {
   "cell_type": "code",
   "execution_count": 1,
   "metadata": {},
   "outputs": [],
   "source": [
    "import pandas as pd\n",
    "import scipy\n",
    "from MakeFrameNumeric import MakeFrameNumeric\n",
    "from TrainPredict import TrainPredict\n",
    "\n"
   ]
  },
  {
   "cell_type": "code",
   "execution_count": 2,
   "metadata": {},
   "outputs": [
    {
     "name": "stdout",
     "output_type": "stream",
     "text": [
      "    country currency manyvalues\n",
      "0   Germany      EUR          A\n",
      "1   Germany      EUR          A\n",
      "2   Germany      EUR          B\n",
      "3   Germany      EUR          B\n",
      "4   Germany      EUR          C\n",
      "5   Germany      MXN          C\n",
      "6        US      USD          D\n",
      "7        US      USD          D\n",
      "8        US      USD          E\n",
      "9        US      USD          E\n",
      "10       US      USD          E\n",
      "11       UK      GBP          K\n",
      "12       UK      GBP          L\n",
      "13       UK      GBP          M\n",
      "14       UK      GBP          N\n",
      "15       UK      GBP          O\n",
      "16      LUX      EUR          Z\n",
      "17      LUX      EUR          Z\n",
      "18      LUX      EUR          Z\n",
      "19      LUX      EUR          Z\n",
      "20      LUX      EUR          Y\n"
     ]
    }
   ],
   "source": [
    "# Create simple dataframe\n",
    "data = { 'country': ['Germany','Germany','Germany','Germany','Germany', 'Germany',\n",
    "                     'US', 'US', 'US', 'US', 'US',\n",
    "                     'UK', 'UK', 'UK', 'UK', 'UK', \n",
    "                     'LUX','LUX','LUX','LUX','LUX'],\n",
    "         'currency':['EUR','EUR','EUR','EUR','EUR','MXN',\n",
    "                     'USD','USD','USD','USD','USD',\n",
    "                     'GBP','GBP','GBP','GBP','GBP',\n",
    "                     'EUR','EUR','EUR','EUR','EUR'],\n",
    "         'manyvalues':['A', 'A', 'B', 'B', 'C', 'C', 'D', 'D', 'E', 'E', 'E', 'K', 'L', 'M', 'N', 'O',\n",
    "                      'Z', 'Z', 'Z', 'Z', 'Y']}\n",
    "   \n",
    "\n",
    "frame = pd.DataFrame(data)\n",
    "print(frame)"
   ]
  },
  {
   "cell_type": "code",
   "execution_count": null,
   "metadata": {},
   "outputs": [],
   "source": []
  },
  {
   "cell_type": "code",
   "execution_count": 3,
   "metadata": {},
   "outputs": [],
   "source": [
    "tp = TrainPredict()\n"
   ]
  },
  {
   "cell_type": "code",
   "execution_count": 4,
   "metadata": {},
   "outputs": [
    {
     "name": "stdout",
     "output_type": "stream",
     "text": [
      "None\n"
     ]
    }
   ],
   "source": [
    "print(tp.converteddf)"
   ]
  },
  {
   "cell_type": "code",
   "execution_count": 5,
   "metadata": {},
   "outputs": [
    {
     "name": "stderr",
     "output_type": "stream",
     "text": [
      "C:\\Users\\will\\AppData\\Local\\Packages\\PythonSoftwareFoundation.Python.3.8_qbz5n2kfra8p0\\LocalCache\\local-packages\\Python38\\site-packages\\xgboost\\sklearn.py:888: UserWarning: The use of label encoder in XGBClassifier is deprecated and will be removed in a future release. To remove this warning, do the following: 1) Pass option use_label_encoder=False when constructing XGBClassifier object; and 2) Encode your labels (y) as integers starting with 0, i.e. 0, 1, 2, ..., [num_class - 1].\n",
      "  warnings.warn(label_encoder_deprecation_msg, UserWarning)\n"
     ]
    },
    {
     "name": "stdout",
     "output_type": "stream",
     "text": [
      "    country_0  country_1  country_2  country_3  currency_0  currency_1  \\\n",
      "0         0.9        0.0        0.0        0.0         0.8         0.0   \n",
      "1         0.9        0.0        0.0        0.0         0.8         0.0   \n",
      "2         0.9        0.0        0.0        0.0         0.8         0.0   \n",
      "3         0.9        0.0        0.0        0.0         0.8         0.0   \n",
      "4         0.9        0.0        0.0        0.0         0.8         0.0   \n",
      "5         0.7        0.0        0.0        0.1         0.8         0.0   \n",
      "6         0.1        0.0        0.0        0.7         0.1         0.0   \n",
      "7         0.1        0.0        0.0        0.7         0.1         0.0   \n",
      "8         0.0        0.0        0.0        0.7         0.0         0.0   \n",
      "9         0.0        0.0        0.0        0.7         0.0         0.0   \n",
      "10        0.0        0.0        0.0        0.7         0.0         0.0   \n",
      "11        0.0        0.0        0.9        0.0         0.0         0.5   \n",
      "12        0.0        0.0        0.9        0.0         0.1         0.8   \n",
      "13        0.0        0.0        1.0        0.0         0.2         0.8   \n",
      "14        0.0        0.0        1.0        0.0         0.4         0.8   \n",
      "15        0.0        0.3        1.0        0.0         0.8         0.8   \n",
      "16        0.0        1.0        0.0        0.0         1.0         0.0   \n",
      "17        0.0        1.0        0.0        0.0         1.0         0.0   \n",
      "18        0.0        1.0        0.0        0.0         1.0         0.0   \n",
      "19        0.0        1.0        0.0        0.0         1.0         0.0   \n",
      "20        0.0        1.0        0.0        0.0         1.0         0.0   \n",
      "\n",
      "    currency_2  currency_3  manyvalues  \n",
      "0          0.0         0.0         0.0  \n",
      "1          0.0         0.0         0.0  \n",
      "2          0.0         0.0         0.0  \n",
      "3          0.0         0.0         0.0  \n",
      "4          0.0         0.0         0.0  \n",
      "5          0.0         0.0         2.0  \n",
      "6          0.0         0.7         3.0  \n",
      "7          0.0         0.7         3.0  \n",
      "8          0.0         0.8         3.0  \n",
      "9          0.0         0.8         3.0  \n",
      "10         0.0         0.8         3.0  \n",
      "11         0.0         0.0         5.0  \n",
      "12         0.0         0.0         5.0  \n",
      "13         0.0         0.0         5.0  \n",
      "14         0.0         0.0         5.0  \n",
      "15         0.0         0.0         5.0  \n",
      "16         0.0         0.0        11.0  \n",
      "17         0.0         0.0        11.0  \n",
      "18         0.0         0.0        11.0  \n",
      "19         0.0         0.0        11.0  \n",
      "20         0.0         0.0        11.0  \n",
      "    country_0  country_1  country_2  country_3  currency_0  currency_1  \\\n",
      "0    0.300000   0.000000        0.0   0.000000    0.400000         0.0   \n",
      "1    0.300000   0.000000        0.0   0.000000    0.400000         0.0   \n",
      "2    0.300000   0.000000        0.0   0.000000    0.400000         0.0   \n",
      "3    0.300000   0.000000        0.0   0.000000    0.400000         0.0   \n",
      "4    0.300000   0.000000        0.0   0.000000    0.400000         0.0   \n",
      "5    0.458258   0.000000        0.0   0.300000    0.400000         0.0   \n",
      "6    0.300000   0.000000        0.0   0.458258    0.300000         0.0   \n",
      "7    0.300000   0.000000        0.0   0.458258    0.300000         0.0   \n",
      "8    0.000000   0.000000        0.0   0.458258    0.000000         0.0   \n",
      "9    0.000000   0.000000        0.0   0.458258    0.000000         0.0   \n",
      "10   0.000000   0.000000        0.0   0.458258    0.000000         0.0   \n",
      "11   0.000000   0.000000        0.3   0.000000    0.000000         0.5   \n",
      "12   0.000000   0.000000        0.3   0.000000    0.300000         0.4   \n",
      "13   0.000000   0.000000        0.0   0.000000    0.400000         0.4   \n",
      "14   0.000000   0.000000        0.0   0.000000    0.489898         0.4   \n",
      "15   0.000000   0.458258        0.0   0.000000    0.400000         0.4   \n",
      "16   0.000000   0.000000        0.0   0.000000    0.000000         0.0   \n",
      "17   0.000000   0.000000        0.0   0.000000    0.000000         0.0   \n",
      "18   0.000000   0.000000        0.0   0.000000    0.000000         0.0   \n",
      "19   0.000000   0.000000        0.0   0.000000    0.000000         0.0   \n",
      "20   0.000000   0.000000        0.0   0.000000    0.000000         0.0   \n",
      "\n",
      "    currency_2  currency_3  manyvalues  \n",
      "0          0.0    0.000000         0.6  \n",
      "1          0.0    0.000000         0.6  \n",
      "2          0.0    0.000000         0.6  \n",
      "3          0.0    0.000000         0.6  \n",
      "4          0.0    0.000000         0.6  \n",
      "5          0.0    0.000000         0.5  \n",
      "6          0.0    0.458258         0.5  \n",
      "7          0.0    0.458258         0.5  \n",
      "8          0.0    0.400000         0.5  \n",
      "9          0.0    0.400000         0.5  \n",
      "10         0.0    0.400000         0.5  \n",
      "11         0.0    0.000000         0.6  \n",
      "12         0.0    0.000000         0.6  \n",
      "13         0.0    0.000000         0.6  \n",
      "14         0.0    0.000000         0.6  \n",
      "15         0.0    0.000000         0.6  \n",
      "16         0.0    0.000000         0.1  \n",
      "17         0.0    0.000000         0.1  \n",
      "18         0.0    0.000000         0.1  \n",
      "19         0.0    0.000000         0.1  \n",
      "20         0.0    0.000000         0.1  \n"
     ]
    }
   ],
   "source": [
    "# Means predictions\n",
    "print(tp.Predict(frame)[0])\n",
    "# Standard errors in predictions\n",
    "print(tp.Predict(frame)[1])"
   ]
  },
  {
   "cell_type": "code",
   "execution_count": 6,
   "metadata": {},
   "outputs": [
    {
     "name": "stdout",
     "output_type": "stream",
     "text": [
      "    country_0  country_1  country_2  country_3  currency_0  currency_1  \\\n",
      "0       False      False      False      False       False       False   \n",
      "1       False      False      False      False       False       False   \n",
      "2       False      False      False      False       False       False   \n",
      "3       False      False      False      False       False       False   \n",
      "4       False      False      False      False       False       False   \n",
      "5       False      False      False      False       False       False   \n",
      "6       False      False      False      False       False       False   \n",
      "7       False      False      False      False       False       False   \n",
      "8       False      False      False      False       False       False   \n",
      "9       False      False      False      False       False       False   \n",
      "10      False      False      False      False       False       False   \n",
      "11      False      False      False      False       False       False   \n",
      "12      False      False      False      False       False       False   \n",
      "13      False      False      False      False       False       False   \n",
      "14      False      False      False      False       False       False   \n",
      "15      False      False      False      False       False       False   \n",
      "16      False      False      False      False       False       False   \n",
      "17      False      False      False      False       False       False   \n",
      "18      False      False      False      False       False       False   \n",
      "19      False      False      False      False       False       False   \n",
      "20      False      False      False      False       False       False   \n",
      "\n",
      "    currency_2  currency_3  manyvalues  \n",
      "0        False       False       False  \n",
      "1        False       False       False  \n",
      "2        False       False       False  \n",
      "3        False       False       False  \n",
      "4        False       False       False  \n",
      "5         True       False       False  \n",
      "6        False       False       False  \n",
      "7        False       False       False  \n",
      "8        False       False       False  \n",
      "9        False       False       False  \n",
      "10       False       False       False  \n",
      "11       False       False       False  \n",
      "12       False       False       False  \n",
      "13       False       False       False  \n",
      "14       False       False       False  \n",
      "15       False       False       False  \n",
      "16       False       False       False  \n",
      "17       False       False       False  \n",
      "18       False       False       False  \n",
      "19       False       False       False  \n",
      "20       False       False        True  \n"
     ]
    }
   ],
   "source": [
    "boolerrors = tp.SpotErrors(frame)\n",
    "print(boolerrors)"
   ]
  },
  {
   "cell_type": "code",
   "execution_count": 7,
   "metadata": {},
   "outputs": [
    {
     "name": "stdout",
     "output_type": "stream",
     "text": [
      "Raw column currency row 5: actual=MXN predicted = (not known)\n",
      "Raw column manyvalues row 20: actual=Y predicted=Z\n",
      "None\n"
     ]
    }
   ],
   "source": [
    "print(tp.PrintErrors(frame))"
   ]
  },
  {
   "cell_type": "code",
   "execution_count": 8,
   "metadata": {},
   "outputs": [],
   "source": [
    "# Create simple dataframe\n",
    "data = { 'country': ['Germany','Germany','Germany','Germany','Germany', 'Germany', 'Germany', 'Germany', 'Germany', 'Germany',\n",
    "                     'US', 'US', 'US', 'US', 'US', 'US', 'US', 'US', 'US', 'US'],\n",
    "         'float' : [0.1, 0.11, 0.13, 0.12, 0.133, 0.125, 0.132, 0.113, 0.093, 0.143, \n",
    "                    1.1, 1.12, 1.13, 1.15, 1.17, 1.183, 1.032, 1.312, 1.021, 0.17]}"
   ]
  },
  {
   "cell_type": "code",
   "execution_count": 9,
   "metadata": {},
   "outputs": [
    {
     "name": "stdout",
     "output_type": "stream",
     "text": [
      "    country  float\n",
      "0   Germany  0.100\n",
      "1   Germany  0.110\n",
      "2   Germany  0.130\n",
      "3   Germany  0.120\n",
      "4   Germany  0.133\n",
      "5   Germany  0.125\n",
      "6   Germany  0.132\n",
      "7   Germany  0.113\n",
      "8   Germany  0.093\n",
      "9   Germany  0.143\n",
      "10       US  1.100\n",
      "11       US  1.120\n",
      "12       US  1.130\n",
      "13       US  1.150\n",
      "14       US  1.170\n",
      "15       US  1.183\n",
      "16       US  1.032\n",
      "17       US  1.312\n",
      "18       US  1.021\n",
      "19       US  0.170\n"
     ]
    }
   ],
   "source": [
    "frame = pd.DataFrame(data)\n",
    "print(frame)"
   ]
  },
  {
   "cell_type": "code",
   "execution_count": 10,
   "metadata": {},
   "outputs": [],
   "source": [
    "tp = TrainPredict()"
   ]
  },
  {
   "cell_type": "code",
   "execution_count": 11,
   "metadata": {},
   "outputs": [
    {
     "name": "stderr",
     "output_type": "stream",
     "text": [
      "C:\\Users\\will\\AppData\\Local\\Packages\\PythonSoftwareFoundation.Python.3.8_qbz5n2kfra8p0\\LocalCache\\local-packages\\Python38\\site-packages\\xgboost\\sklearn.py:888: UserWarning: The use of label encoder in XGBClassifier is deprecated and will be removed in a future release. To remove this warning, do the following: 1) Pass option use_label_encoder=False when constructing XGBClassifier object; and 2) Encode your labels (y) as integers starting with 0, i.e. 0, 1, 2, ..., [num_class - 1].\n",
      "  warnings.warn(label_encoder_deprecation_msg, UserWarning)\n"
     ]
    },
    {
     "name": "stdout",
     "output_type": "stream",
     "text": [
      "Raw column float row 0: actual=0.1 predicted=0.093\n",
      "Raw column float row 1: actual=0.11 predicted=0.093\n",
      "Raw column float row 2: actual=0.13 predicted=0.093\n",
      "Raw column float row 3: actual=0.12 predicted=0.093\n",
      "Raw column float row 4: actual=0.133 predicted=0.093\n",
      "Raw column float row 5: actual=0.125 predicted=0.093\n",
      "Raw column float row 6: actual=0.132 predicted=0.093\n",
      "Raw column float row 7: actual=0.113 predicted=0.093\n",
      "Raw column float row 9: actual=0.143 predicted=0.093\n",
      "Raw column float row 10: actual=1.1 predicted=0.093\n",
      "Raw column float row 11: actual=1.12 predicted=0.093\n",
      "Raw column float row 12: actual=1.13 predicted=0.093\n",
      "Raw column float row 13: actual=1.15 predicted=0.093\n",
      "Raw column float row 14: actual=1.17 predicted=0.093\n",
      "Raw column float row 15: actual=1.183 predicted=0.093\n",
      "Raw column float row 16: actual=1.032 predicted=0.093\n",
      "Raw column float row 17: actual=1.312 predicted=0.093\n",
      "Raw column float row 18: actual=1.021 predicted=0.093\n",
      "Raw column float row 19: actual=0.17 predicted=0.093\n",
      "None\n"
     ]
    }
   ],
   "source": [
    "print(tp.PrintErrors(frame))"
   ]
  },
  {
   "cell_type": "code",
   "execution_count": null,
   "metadata": {},
   "outputs": [],
   "source": []
  },
  {
   "cell_type": "code",
   "execution_count": null,
   "metadata": {},
   "outputs": [],
   "source": []
  }
 ],
 "metadata": {
  "kernelspec": {
   "display_name": "Python 3",
   "language": "python",
   "name": "python3"
  },
  "language_info": {
   "codemirror_mode": {
    "name": "ipython",
    "version": 3
   },
   "file_extension": ".py",
   "mimetype": "text/x-python",
   "name": "python",
   "nbconvert_exporter": "python",
   "pygments_lexer": "ipython3",
   "version": "3.8.5"
  }
 },
 "nbformat": 4,
 "nbformat_minor": 4
}
