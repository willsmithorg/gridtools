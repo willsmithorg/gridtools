{
 "cells": [
  {
   "cell_type": "code",
   "execution_count": 1,
   "id": "champion-crack",
   "metadata": {},
   "outputs": [],
   "source": [
    "import pandas as pd\n",
    "import numpy as np\n",
    "import scipy\n",
    "from Column import Column\n",
    "from AddDerivedColumns import AddDerivedColumns\n",
    "\n",
    "import logging\n",
    "import sys\n",
    "logging.basicConfig(stream=sys.stdout, level=logging.INFO, datefmt='%H:%M:%S', format='%(asctime)s.%(msecs)03d - %(filename)s:%(lineno)d - %(message)s')"
   ]
  },
  {
   "cell_type": "code",
   "execution_count": 2,
   "id": "tutorial-bearing",
   "metadata": {},
   "outputs": [
    {
     "name": "stdout",
     "output_type": "stream",
     "text": [
      "AddDerivedColumns init start\n",
      "AddDerivedColumns init end: 6 derivers\n",
      "{<ColumnDeriver.Len.ColumnDeriverLen object at 0x00000180BCEF8250>, <ColumnDeriver.RobustScaler.ColumnDeriverRobustScaler object at 0x00000180CC24C070>, <ColumnDeriver.Date.ColumnDeriverDate object at 0x00000180CC24C130>, <ColumnDeriver.MinMaxScaler.ColumnDeriverMinMaxScaler object at 0x00000180BCEF8B50>, <ColumnDeriver.Abs.ColumnDeriverAbs object at 0x00000180BCEF85E0>, <ColumnDeriver.Upper.ColumnDeriverUpper object at 0x00000180BCEF8BE0>}\n",
      " applying length to col1\n",
      " applying date to col1\n",
      " applying uppercase to col1\n",
      "\t applying length to col1.uppercase\n",
      "\t applying date to col1.uppercase\n"
     ]
    }
   ],
   "source": [
    "col1 = Column(pd.Series(['abc','def', 'ghij'], name='col1'))\n",
    "adc = AddDerivedColumns()\n",
    "print(adc.allderivers)\n",
    "newcols = adc.Process(col1)\n"
   ]
  },
  {
   "cell_type": "code",
   "execution_count": 3,
   "id": "nominated-climate",
   "metadata": {},
   "outputs": [
    {
     "name": "stdout",
     "output_type": "stream",
     "text": [
      "Name : col1.length\n",
      "Size : 3\n",
      "Dtype : int64\n",
      "Depth : 1\n",
      "Children: []\n",
      "Parent: col1\n",
      "0    3\n",
      "1    3\n",
      "2    4\n",
      "Name: col1.length, dtype: int64\n",
      "Name : col1.uppercase\n",
      "Size : 3\n",
      "Dtype : object\n",
      "Depth : 1\n",
      "Children: [col1.uppercase.length]\n",
      "Parent: col1\n",
      "0     ABC\n",
      "1     DEF\n",
      "2    GHIJ\n",
      "Name: col1.uppercase, dtype: object\n",
      "[[[]], [<Column.Column object at 0x00000180CC24C8E0>, [[[]]]]]\n"
     ]
    }
   ],
   "source": [
    "for col in newcols:\n",
    "    print(col)"
   ]
  },
  {
   "cell_type": "code",
   "execution_count": 4,
   "id": "stable-reflection",
   "metadata": {},
   "outputs": [
    {
     "name": "stdout",
     "output_type": "stream",
     "text": [
      " applying robustscaled to col2\n",
      " applying scaled to col2\n",
      " applying absolute to col2\n",
      "\t applying absolute to col2.robustscaled\n"
     ]
    }
   ],
   "source": [
    "col2 = Column(pd.Series([3,4,-1,-3,5,1000],name='col2'))\n",
    "newcols = adc.Process(col2)"
   ]
  },
  {
   "cell_type": "code",
   "execution_count": 6,
   "id": "sensitive-rough",
   "metadata": {},
   "outputs": [
    {
     "name": "stdout",
     "output_type": "stream",
     "text": [
      "Name : col2.robustscaled\n",
      "Size : 6\n",
      "Dtype : float64\n",
      "Depth : 1\n",
      "Children: [col2.robustscaled.absolute]\n",
      "Parent: col2\n",
      "0   -0.141998\n",
      "1    0.141998\n",
      "2   -1.277981\n",
      "3   -1.845972\n",
      "4    0.425994\n",
      "Name: col2.robustscaled, dtype: float64\n",
      "Name : col2.robustscaled.absolute\n",
      "Size : 6\n",
      "Dtype : float64\n",
      "Depth : 2\n",
      "Children: []\n",
      "Parent: col2.robustscaled\n",
      "0    0.141998\n",
      "1    0.141998\n",
      "2    1.277981\n",
      "3    1.845972\n",
      "4    0.425994\n",
      "Name: col2.robustscaled.absolute, dtype: float64\n",
      "Name : col2.scaled\n",
      "Size : 6\n",
      "Dtype : float64\n",
      "Depth : 1\n",
      "Children: []\n",
      "Parent: col2\n",
      "0    0.005982\n",
      "1    0.006979\n",
      "2    0.001994\n",
      "3    0.000000\n",
      "4    0.007976\n",
      "Name: col2.scaled, dtype: float64\n",
      "Name : col2.absolute\n",
      "Size : 6\n",
      "Dtype : int64\n",
      "Depth : 1\n",
      "Children: []\n",
      "Parent: col2\n",
      "0    3\n",
      "1    4\n",
      "2    1\n",
      "3    3\n",
      "4    5\n",
      "Name: col2.absolute, dtype: int64\n",
      "[[<Column.Column object at 0x00000180CC27C250>, [[[]]]], [[]], [[]]]\n"
     ]
    },
    {
     "ename": "AttributeError",
     "evalue": "'list' object has no attribute 'children'",
     "output_type": "error",
     "traceback": [
      "\u001b[1;31m---------------------------------------------------------------------------\u001b[0m",
      "\u001b[1;31mAttributeError\u001b[0m                            Traceback (most recent call last)",
      "\u001b[1;32m<ipython-input-6-828b6eafc399>\u001b[0m in \u001b[0;36m<module>\u001b[1;34m\u001b[0m\n\u001b[0;32m      1\u001b[0m \u001b[1;32mfor\u001b[0m \u001b[0mcol\u001b[0m \u001b[1;32min\u001b[0m \u001b[0mnewcols\u001b[0m\u001b[1;33m:\u001b[0m\u001b[1;33m\u001b[0m\u001b[1;33m\u001b[0m\u001b[0m\n\u001b[0;32m      2\u001b[0m     \u001b[0mprint\u001b[0m\u001b[1;33m(\u001b[0m\u001b[0mcol\u001b[0m\u001b[1;33m)\u001b[0m\u001b[1;33m\u001b[0m\u001b[1;33m\u001b[0m\u001b[0m\n\u001b[1;32m----> 3\u001b[1;33m     \u001b[1;32mfor\u001b[0m \u001b[0mcol2\u001b[0m \u001b[1;32min\u001b[0m \u001b[0mcol\u001b[0m\u001b[1;33m.\u001b[0m\u001b[0mchildren\u001b[0m\u001b[1;33m:\u001b[0m\u001b[1;33m\u001b[0m\u001b[1;33m\u001b[0m\u001b[0m\n\u001b[0m\u001b[0;32m      4\u001b[0m         \u001b[0mprint\u001b[0m\u001b[1;33m(\u001b[0m\u001b[0mcol2\u001b[0m\u001b[1;33m)\u001b[0m\u001b[1;33m\u001b[0m\u001b[1;33m\u001b[0m\u001b[0m\n",
      "\u001b[1;31mAttributeError\u001b[0m: 'list' object has no attribute 'children'"
     ]
    }
   ],
   "source": [
    "for col in newcols:\n",
    "    print(col)\n",
    "    for col2 in col.children:\n",
    "        print(col2)"
   ]
  },
  {
   "cell_type": "code",
   "execution_count": null,
   "id": "presidential-explanation",
   "metadata": {},
   "outputs": [],
   "source": []
  },
  {
   "cell_type": "code",
   "execution_count": null,
   "id": "elementary-breakfast",
   "metadata": {},
   "outputs": [],
   "source": []
  }
 ],
 "metadata": {
  "kernelspec": {
   "display_name": "Python 3",
   "language": "python",
   "name": "python3"
  },
  "language_info": {
   "codemirror_mode": {
    "name": "ipython",
    "version": 3
   },
   "file_extension": ".py",
   "mimetype": "text/x-python",
   "name": "python",
   "nbconvert_exporter": "python",
   "pygments_lexer": "ipython3",
   "version": "3.8.8"
  }
 },
 "nbformat": 4,
 "nbformat_minor": 5
}
