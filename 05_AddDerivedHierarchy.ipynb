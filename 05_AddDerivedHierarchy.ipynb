{
 "cells": [
  {
   "cell_type": "code",
   "execution_count": 1,
   "id": "champion-crack",
   "metadata": {},
   "outputs": [],
   "source": [
    "import pandas as pd\n",
    "import numpy as np\n",
    "import scipy\n",
    "from Column import Column\n",
    "from AddDerivedColumns import AddDerivedColumns\n",
    "\n",
    "import logging\n",
    "import sys\n",
    "logging.basicConfig(stream=sys.stdout, level=logging.INFO, datefmt='%H:%M:%S', format='%(asctime)s.%(msecs)03d - %(filename)s:%(lineno)d - %(message)s')"
   ]
  },
  {
   "cell_type": "code",
   "execution_count": 2,
   "id": "tutorial-bearing",
   "metadata": {},
   "outputs": [
    {
     "name": "stdout",
     "output_type": "stream",
     "text": [
      "init start\n",
      "len::init\n",
      "abs::init\n",
      "upper::init\n",
      "init end\n",
      "process start\n",
      "applying length to col1\n",
      "applying uppercase to col1\n",
      "process end\n"
     ]
    }
   ],
   "source": [
    "col1 = Column(pd.Series(['abc','def', 'ghij'], name='col1'))\n",
    "adc = AddDerivedColumns()\n",
    "newcols = adc.Process(col1)"
   ]
  },
  {
   "cell_type": "code",
   "execution_count": 3,
   "id": "nominated-climate",
   "metadata": {},
   "outputs": [
    {
     "name": "stdout",
     "output_type": "stream",
     "text": [
      "Name : col1.length\n",
      "Size : 3\n",
      "Dtype : int64\n",
      "Depth : 1\n",
      "Children: []\n",
      "Parent: col1\n",
      "0    3\n",
      "1    3\n",
      "2    4\n",
      "Name: col1.length, dtype: int64\n",
      "Name : col1.uppercase\n",
      "Size : 3\n",
      "Dtype : object\n",
      "Depth : 1\n",
      "Children: []\n",
      "Parent: col1\n",
      "0     ABC\n",
      "1     DEF\n",
      "2    GHIJ\n",
      "Name: col1.uppercase, dtype: object\n"
     ]
    }
   ],
   "source": [
    "for col in newcols:\n",
    "    print(col)"
   ]
  },
  {
   "cell_type": "code",
   "execution_count": 4,
   "id": "stable-reflection",
   "metadata": {},
   "outputs": [
    {
     "name": "stdout",
     "output_type": "stream",
     "text": [
      "process start\n",
      "applying absolute to col2\n",
      "process end\n"
     ]
    }
   ],
   "source": [
    "col2 = Column(pd.Series([3,4,-1], name='col2'))\n",
    "newcols = adc.Process(col2)"
   ]
  },
  {
   "cell_type": "code",
   "execution_count": 5,
   "id": "sensitive-rough",
   "metadata": {},
   "outputs": [
    {
     "name": "stdout",
     "output_type": "stream",
     "text": [
      "Name : col2.absolute\n",
      "Size : 3\n",
      "Dtype : int64\n",
      "Depth : 1\n",
      "Children: []\n",
      "Parent: col2\n",
      "0    3\n",
      "1    4\n",
      "2    1\n",
      "Name: col2.absolute, dtype: int64\n"
     ]
    }
   ],
   "source": [
    "for col in newcols:\n",
    "    print(col)"
   ]
  },
  {
   "cell_type": "code",
   "execution_count": null,
   "id": "presidential-explanation",
   "metadata": {},
   "outputs": [],
   "source": []
  }
 ],
 "metadata": {
  "kernelspec": {
   "display_name": "Python 3",
   "language": "python",
   "name": "python3"
  },
  "language_info": {
   "codemirror_mode": {
    "name": "ipython",
    "version": 3
   },
   "file_extension": ".py",
   "mimetype": "text/x-python",
   "name": "python",
   "nbconvert_exporter": "python",
   "pygments_lexer": "ipython3",
   "version": "3.8.8"
  }
 },
 "nbformat": 4,
 "nbformat_minor": 5
}
