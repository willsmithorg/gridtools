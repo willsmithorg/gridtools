{
 "cells": [
  {
   "cell_type": "code",
   "execution_count": 1,
   "id": "unsigned-cologne",
   "metadata": {},
   "outputs": [],
   "source": [
    "import pandas as pd\n",
    "import numpy as np\n",
    "import scipy\n",
    "from ColumnSet import ColumnSet\n",
    "from MakeNumericColumns import MakeNumericColumns\n",
    "\n",
    "\n",
    "import logging\n",
    "import sys\n",
    "logging.basicConfig(stream=sys.stdout, level=logging.INFO, datefmt='%H:%M:%S', format='%(asctime)s.%(msecs)03d - %(filename)s:%(lineno)d - %(message)s')"
   ]
  },
  {
   "cell_type": "code",
   "execution_count": 2,
   "id": "recognized-trademark",
   "metadata": {},
   "outputs": [],
   "source": [
    "data1 = { 'country': ['Germany','Germany','Germany','Germany','Germany', 'Germany',\n",
    "                     'US', 'US', 'US', 'US', 'US',\n",
    "                     'UK', 'UK', 'UK', 'UK', 'UK', \n",
    "                     'LUX','LUX','LUX','LUX','LUX'],\n",
    "         'currency':['EUR','EUR','EUR','EUR','EUR','MXN',\n",
    "                     'USD','USD','USD','USD','USD',\n",
    "                     'GBP','GBP','GBP','GBP','GBP',\n",
    "                     'EUR','EUR','EUR','EUR','EUR'],\n",
    "         'manyvalues':['A', 'A', 'B', 'B', 'C', 'C', 'D', 'D', 'E', 'E', 'E', 'K', 'L', 'M', 'N', 'O',\n",
    "                      'Z', 'Z', 'Z', 'Z', 'Y'],\n",
    "         'rand': [ np.random.uniform(100,200) for _ in range(21) ],\n",
    "         'linear': [ x for x in range(21) ],\n",
    "        'city': ['Frankfurt'] * 6 + ['LA'] * 5 + ['London'] * 5+  ['Luxembourg'] * 5}\n",
    "data1 = pd.DataFrame(data1) \n",
    "\n",
    "cs = ColumnSet(data1)\n",
    "\n",
    "\n",
    "mnc = MakeNumericColumns()"
   ]
  },
  {
   "cell_type": "code",
   "execution_count": 3,
   "id": "simplified-relationship",
   "metadata": {},
   "outputs": [
    {
     "name": "stdout",
     "output_type": "stream",
     "text": [
      "[0 0 0 0 0 0 3 3 3 3 3 2 2 2 2 2 1 1 1 1 1]\n",
      "[0 0 0 0 0 2 3 3 3 3 3 1 1 1 1 1 0 0 0 0 0]\n",
      "[ 0  0  1  1  2  2  3  3  4  4  4  5  6  7  8  9 11 11 11 11 10]\n",
      "[197.73934311 110.33324656 141.49694921 184.31724171 108.46969671\n",
      " 139.25272078 151.21189695 153.46176893 187.76389336 137.53698367\n",
      " 159.88652566 116.50373679 138.27690313 179.68117332 134.14118695\n",
      " 161.89474101 178.55310843 165.02246245 176.74003862 163.09277384\n",
      " 151.99074248]\n",
      "[ 0  1  2  3  4  5  6  7  8  9 10 11 12 13 14 15 16 17 18 19 20]\n",
      "[0 0 0 0 0 0 1 1 1 1 1 2 2 2 2 2 3 3 3 3 3]\n"
     ]
    }
   ],
   "source": [
    "\n",
    "for column in cs.inputcolumns:\n",
    "        print(mnc.Process(column))\n",
    "        "
   ]
  },
  {
   "cell_type": "code",
   "execution_count": null,
   "id": "retained-blond",
   "metadata": {},
   "outputs": [],
   "source": []
  },
  {
   "cell_type": "code",
   "execution_count": null,
   "id": "integrated-caution",
   "metadata": {},
   "outputs": [],
   "source": []
  }
 ],
 "metadata": {
  "kernelspec": {
   "display_name": "Python 3",
   "language": "python",
   "name": "python3"
  },
  "language_info": {
   "codemirror_mode": {
    "name": "ipython",
    "version": 3
   },
   "file_extension": ".py",
   "mimetype": "text/x-python",
   "name": "python",
   "nbconvert_exporter": "python",
   "pygments_lexer": "ipython3",
   "version": "3.8.8"
  }
 },
 "nbformat": 4,
 "nbformat_minor": 5
}
