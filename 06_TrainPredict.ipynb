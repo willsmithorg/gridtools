{
 "cells": [
  {
   "cell_type": "code",
   "execution_count": 1,
   "id": "american-defeat",
   "metadata": {},
   "outputs": [],
   "source": [
    "import pandas as pd\n",
    "import numpy as np\n",
    "import scipy\n",
    "\n",
    "from TrainPredictSelf import TrainPredictSelf\n",
    "\n",
    "\n",
    "import logging\n",
    "import sys\n",
    "logging.basicConfig(stream=sys.stdout, level=logging.INFO, datefmt='%H:%M:%S', format='%(asctime)s.%(msecs)03d - %(filename)s:%(lineno)d - %(message)s')"
   ]
  },
  {
   "cell_type": "code",
   "execution_count": 2,
   "id": "fifty-beast",
   "metadata": {},
   "outputs": [],
   "source": [
    "data1 = { 'country': ['Germany','Germany','Germany','Germany','Germany', 'Germany',\n",
    "                     'US', 'US', 'US', 'US', 'US',\n",
    "                     'UK', 'UK', 'UK', 'UK', 'UK', \n",
    "                     'LUX','LUX','LUX','LUX','LUX'],\n",
    "         'currency':['EUR','EUR','EUR','EUR','EUR','MXN',\n",
    "                     'USD','USD','USD','USD','USD',\n",
    "                     'GBP','GBP','GBP','GBP','GBP',\n",
    "                     'EUR','EUR','EUR','EUR','EUR'],\n",
    "         'manyvalues':['A', 'A', 'B', 'B', 'C', 'C', 'D', 'D', 'E', 'E', 'E', 'K', 'L', 'M', 'N', 'O',\n",
    "                      'Z', 'Z', 'Z', 'Z', 'Y'],\n",
    "         'rand': [ np.random.uniform(100,200) for _ in range(21) ],\n",
    "         'linear': [ x for x in range(21) ],\n",
    "        'city': ['Frankfurt'] * 6 + ['LA'] * 5 + ['London'] * 5+  ['Luxembourg'] * 5}\n",
    "data1 = pd.DataFrame(data1) "
   ]
  },
  {
   "cell_type": "code",
   "execution_count": 3,
   "id": "educational-october",
   "metadata": {},
   "outputs": [
    {
     "name": "stdout",
     "output_type": "stream",
     "text": [
      "country\n",
      "(21, 30)\n",
      "(21,)\n",
      "[0.8  1.   1.   1.   1.   0.8  1.   1.   1.   1.   1.   1.   1.   0.75\n",
      " 0.75 1.   0.75 1.   1.   0.75]\n",
      "0.93\n",
      "currency\n",
      "(21, 33)\n",
      "(21,)\n",
      "[1.   1.   1.   1.   0.75 0.8  1.   1.   1.   1.   1.   1.   1.   0.75\n",
      " 1.   1.   0.75 1.   1.   1.  ]\n",
      "0.9525\n",
      "manyvalues\n",
      "(21, 33)\n",
      "(21,)\n",
      "[0.6  0.25 0.   0.5  0.25 0.2  0.75 0.   0.25 0.5  0.2  0.25 0.25 0.25\n",
      " 0.   0.2  0.25 0.25 0.   0.5 ]\n",
      "0.27249999999999996\n",
      "rand\n",
      "(21, 32)\n",
      "(21,)\n",
      "[  0.26479332  -2.57370475  -0.06781318   0.62070487  -0.50070099\n",
      "  -1.0746839   -0.63713621   0.34646975   0.38551607 -10.97637385\n",
      "   0.61271275   0.54846116  -2.11154372  -2.55830048   0.37369766\n",
      "  -0.78009249  -2.55830048  -0.24777228  -1.96211195   0.52672003]\n",
      "-1.1184729330256062\n",
      "linear\n",
      "(21, 32)\n",
      "(21,)\n",
      "[0. 0. 0. 0. 0. 0. 0. 0. 0. 0. 0. 0. 0. 0. 0. 0. 0. 0. 0. 0.]\n",
      "0.0\n",
      "city\n",
      "(21, 20)\n",
      "(21,)\n",
      "[0.8  1.   1.   1.   1.   1.   1.   1.   1.   1.   1.   1.   1.   1.\n",
      " 0.75 1.   1.   1.   1.   0.75]\n",
      "0.9650000000000001\n"
     ]
    }
   ],
   "source": [
    "tps = TrainPredictSelf()\n",
    "\n",
    "tps.Train(data1)"
   ]
  },
  {
   "cell_type": "code",
   "execution_count": null,
   "id": "every-malawi",
   "metadata": {},
   "outputs": [],
   "source": []
  }
 ],
 "metadata": {
  "kernelspec": {
   "display_name": "Python 3",
   "language": "python",
   "name": "python3"
  },
  "language_info": {
   "codemirror_mode": {
    "name": "ipython",
    "version": 3
   },
   "file_extension": ".py",
   "mimetype": "text/x-python",
   "name": "python",
   "nbconvert_exporter": "python",
   "pygments_lexer": "ipython3",
   "version": "3.8.8"
  }
 },
 "nbformat": 4,
 "nbformat_minor": 5
}
