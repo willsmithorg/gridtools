{
 "cells": [
  {
   "cell_type": "code",
   "execution_count": 1,
   "id": "american-defeat",
   "metadata": {},
   "outputs": [],
   "source": [
    "import pandas as pd\n",
    "import numpy as np\n",
    "import scipy\n",
    "\n",
    "from TrainPredictSelf import TrainPredictSelf\n",
    "\n",
    "\n",
    "import logging\n",
    "import sys\n",
    "logging.basicConfig(stream=sys.stdout, level=logging.INFO, datefmt='%H:%M:%S', format='%(asctime)s.%(msecs)03d - %(filename)s:%(lineno)d - %(message)s')"
   ]
  },
  {
   "cell_type": "code",
   "execution_count": 2,
   "id": "fifty-beast",
   "metadata": {},
   "outputs": [
    {
     "name": "stdout",
     "output_type": "stream",
     "text": [
      "    country currency manyvalues        rand  linear               city\n",
      "0   Germany      EUR          A  117.446506       0  Frankfurt am Main\n",
      "1   Germany      EUR          A  135.552561       1  Frankfurt am Main\n",
      "2   Germany      EUR          B  142.721123       2  Frankfurt am Main\n",
      "3   Germany      EUR          B  108.203088       3  Frankfurt am Main\n",
      "4   Germany      EUR          C  153.425992       4  Frankfurt am Main\n",
      "5   Germany      MXN          C  111.283261       5  Frankfurt am Main\n",
      "6        US      USD          D  171.320716       6        Los Angeles\n",
      "7        US      USD          D  126.077924       7        Los Angeles\n",
      "8        US      USD          E  185.165542       8        Los Angeles\n",
      "9        US      USD          E  153.741859       9        Los Angeles\n",
      "10       US      USD          E  180.121026      10        Los Angeles\n",
      "11       UK      GBP          K  129.839963      11             London\n",
      "12       UK      GBP          L  186.027931      12             London\n",
      "13  Germany      GBP          M  156.409248      13             London\n",
      "14       UK      GBP          N  107.111776      14             London\n",
      "15       UK      GBP          O  193.350694      15             London\n",
      "16      LUX      EUR          Z  147.024997      16         Luxembourg\n",
      "17      LUX      EUR          Z  137.015352      17         Luxembourg\n",
      "18      LUX      EUR          Z  131.349453      18         Luxembourg\n",
      "19      LUX      EUR          Z  147.009039      19         Luxembourg\n",
      "20      LUX      EUR          Y  139.989435      20                Bad\n"
     ]
    }
   ],
   "source": [
    "data1 = { 'country': ['Germany','Germany','Germany','Germany','Germany', 'Germany',\n",
    "                     'US', 'US', 'US', 'US', 'US',\n",
    "                     'UK', 'UK', 'Germany', 'UK', 'UK', \n",
    "                     'LUX','LUX','LUX','LUX','LUX'],\n",
    "         'currency':['EUR','EUR','EUR','EUR','EUR','MXN',\n",
    "                     'USD','USD','USD','USD','USD',\n",
    "                     'GBP','GBP','GBP','GBP','GBP',\n",
    "                     'EUR','EUR','EUR','EUR','EUR'],\n",
    "         'manyvalues':['A', 'A', 'B', 'B', 'C', 'C', 'D', 'D', 'E', 'E', 'E', 'K', 'L', 'M', 'N', 'O',\n",
    "                      'Z', 'Z', 'Z', 'Z', 'Y'],\n",
    "         'rand': [ np.random.uniform(100,200) for _ in range(21) ],\n",
    "         'linear': [ x for x in range(21) ],\n",
    "         'city': ['Frankfurt am Main'] * 6 + ['Los Angeles'] * 5 + ['London'] * 5 + ['Luxembourg'] * 4 + ['Bad'] * 1}\n",
    "data1 = pd.DataFrame(data1) \n",
    "print(data1)"
   ]
  },
  {
   "cell_type": "code",
   "execution_count": 3,
   "id": "educational-october",
   "metadata": {},
   "outputs": [],
   "source": [
    "tps = TrainPredictSelf()\n",
    "\n",
    "results_labels, results_proba = tps.Train(data1)"
   ]
  },
  {
   "cell_type": "code",
   "execution_count": 4,
   "id": "every-malawi",
   "metadata": {},
   "outputs": [
    {
     "name": "stdout",
     "output_type": "stream",
     "text": [
      "    country currency manyvalues        rand  linear               city\n",
      "0   Germany      EUR          B  131.546638     6.0  Frankfurt am Main\n",
      "1   Germany      EUR          B  116.594850     2.0  Frankfurt am Main\n",
      "2   Germany      EUR          A  116.594850     2.0  Frankfurt am Main\n",
      "3   Germany      EUR          C  116.594850     2.0  Frankfurt am Main\n",
      "4   Germany      EUR          D  116.594850     2.0  Frankfurt am Main\n",
      "5   Germany      EUR          D  159.172856     2.0  Frankfurt am Main\n",
      "6        US      USD          E  131.546638    10.0        Los Angeles\n",
      "7        US      USD          E  182.335705    10.0        Los Angeles\n",
      "8        US      USD          D  159.172856    10.0        Los Angeles\n",
      "9        US      USD          E  182.335705     6.0        Los Angeles\n",
      "10       US      USD          E  159.172856    10.0        Los Angeles\n",
      "11  Germany      GBP          N  182.335705    14.0             London\n",
      "12       UK      GBP          E  116.594850    14.0             London\n",
      "13       UK      EUR          C  116.594850     6.0  Frankfurt am Main\n",
      "14       UK      GBP          K  182.335705    14.0             London\n",
      "15      LUX      GBP          L  116.594850    14.0             London\n",
      "16      LUX      EUR          Z  142.020174    18.0         Luxembourg\n",
      "17      LUX      EUR          Z  142.020174    18.0         Luxembourg\n",
      "18      LUX      EUR          Z  142.020174    18.0         Luxembourg\n",
      "19      LUX      EUR          Z  131.546638    18.0         Luxembourg\n",
      "20      LUX      EUR          Z  131.546638    18.0         Luxembourg\n",
      "     country  currency  manyvalues      rand    linear      city\n",
      "0   0.933620  0.790306    0.629029  0.452700  0.603208  0.900501\n",
      "1   0.950878  0.959534    0.503652  0.548461  0.536648  0.898394\n",
      "2   0.954108  0.963762    0.337894  0.484074  0.401479  0.900012\n",
      "3   0.823985  0.790306    0.401237  0.349716  0.630902  0.902509\n",
      "4   0.966760  0.945348    0.183210  0.899809  0.853484  0.899617\n",
      "5   0.497633  0.526838    0.171327  0.856154  0.894960  0.341587\n",
      "6   0.775357  0.897299    0.728921  0.665198  0.548358  0.877798\n",
      "7   0.843682  0.886592    0.210632  0.929896  0.866151  0.879090\n",
      "8   0.806203  0.897299    0.262524  0.692710  0.601672  0.838744\n",
      "9   0.793004  0.864465    0.387752  0.904790  0.738681  0.877789\n",
      "10  0.822159  0.897299    0.607401  0.617902  0.601672  0.838744\n",
      "11  0.513318  0.910712    0.250742  0.890738  0.826722  0.872575\n",
      "12  0.647377  0.908445    0.415000  0.306027  0.896938  0.881319\n",
      "13  0.875828  0.380037    0.199365  0.781714  0.524231  0.796379\n",
      "14  0.699619  0.819952    0.172497  0.910726  0.310599  0.872575\n",
      "15  0.683927  0.908445    0.292660  0.753604  0.896938  0.869715\n",
      "16  0.900137  0.929267    0.824454  0.746103  0.921014  0.845019\n",
      "17  0.904311  0.941060    0.820567  0.608582  0.797064  0.843045\n",
      "18  0.881988  0.915915    0.732427  0.964944  0.788682  0.850948\n",
      "19  0.900598  0.941060    0.796461  0.790928  0.921014  0.778751\n",
      "20  0.627049  0.870192    0.798454  0.504953  0.721341  0.604867\n"
     ]
    }
   ],
   "source": [
    "dfLabels, dfProbas = tps.SinglePredictionPerCell(results_labels, results_proba)\n",
    "print(dfLabels)\n",
    "print(dfProbas)"
   ]
  },
  {
   "cell_type": "code",
   "execution_count": 5,
   "id": "talented-birmingham",
   "metadata": {},
   "outputs": [
    {
     "name": "stdout",
     "output_type": "stream",
     "text": [
      "     country  currency  manyvalues      rand    linear      city\n",
      "0   0.906076  0.651996    0.478371  0.069038  0.266671  0.872775\n",
      "1   0.929900  0.944716    0.378561  0.176231  0.317511  0.870733\n",
      "2   0.933781  0.950475    0.164446  0.028066  0.102146  0.873109\n",
      "3   0.704681  0.651996    0.274927  0.015527  0.386781  0.873822\n",
      "4   0.952089  0.925329    0.045515  0.860418  0.774257  0.870900\n",
      "5   0.314582  0.288504    0.025947  0.785702  0.851077  0.147847\n",
      "6   0.586895  0.857577    0.655744  0.515886  0.327795  0.841991\n",
      "7   0.728465  0.844324    0.060571  0.879673  0.826797  0.843294\n",
      "8   0.715824  0.857577    0.014407  0.545611  0.363999  0.792207\n",
      "9   0.623156  0.795073    0.202209  0.813899  0.512812  0.842007\n",
      "10  0.723547  0.857577    0.494800  0.384414  0.363999  0.792207\n",
      "11  0.224836  0.873662    0.129854  0.824654  0.741242  0.837138\n",
      "12  0.444683  0.872203    0.248085  0.042353  0.841977  0.845329\n",
      "13  0.834037  0.029650    0.029999  0.675364  0.232605  0.718012\n",
      "14  0.573399  0.698366    0.007562  0.870849  0.066022  0.837138\n",
      "15  0.471743  0.872203    0.153939  0.640965  0.841977  0.830708\n",
      "16  0.853741  0.902561    0.767011  0.632741  0.887167  0.792251\n",
      "17  0.863295  0.918996    0.748241  0.444133  0.642378  0.789998\n",
      "18  0.833048  0.884368    0.664102  0.943246  0.684548  0.810350\n",
      "19  0.855497  0.918996    0.733166  0.625486  0.887167  0.656750\n",
      "20  0.464146  0.787981    0.757966  0.078335  0.576334  0.466442\n"
     ]
    }
   ],
   "source": [
    "dfConfidence =tps.Confidence(results_proba)\n",
    "print(dfConfidence)"
   ]
  },
  {
   "cell_type": "code",
   "execution_count": 6,
   "id": "qualified-sandwich",
   "metadata": {},
   "outputs": [
    {
     "name": "stdout",
     "output_type": "stream",
     "text": [
      "    country  currency  manyvalues   rand  linear   city\n",
      "0     False     False       False  False   False  False\n",
      "1     False     False       False  False   False  False\n",
      "2     False     False       False  False   False  False\n",
      "3     False     False       False  False   False  False\n",
      "4     False     False       False   True    True  False\n",
      "5     False     False       False   True    True  False\n",
      "6     False     False        True   True   False  False\n",
      "7     False     False       False   True    True  False\n",
      "8     False     False       False   True   False  False\n",
      "9     False     False       False   True    True  False\n",
      "10    False     False       False  False   False  False\n",
      "11    False     False       False   True    True  False\n",
      "12    False     False       False  False    True  False\n",
      "13     True     False       False   True   False   True\n",
      "14    False     False       False   True   False  False\n",
      "15    False     False       False   True    True  False\n",
      "16    False     False       False   True    True  False\n",
      "17    False     False       False  False    True  False\n",
      "18    False     False       False   True   False  False\n",
      "19    False     False       False   True    True  False\n",
      "20    False     False        True  False    True  False\n"
     ]
    }
   ],
   "source": [
    "dfBoolDifferences = tps.BoolDifferences(dfLabels, dfConfidence)\n",
    "print(dfBoolDifferences)"
   ]
  },
  {
   "cell_type": "code",
   "execution_count": null,
   "id": "pleasant-fusion",
   "metadata": {},
   "outputs": [],
   "source": []
  }
 ],
 "metadata": {
  "kernelspec": {
   "display_name": "Python 3",
   "language": "python",
   "name": "python3"
  },
  "language_info": {
   "codemirror_mode": {
    "name": "ipython",
    "version": 3
   },
   "file_extension": ".py",
   "mimetype": "text/x-python",
   "name": "python",
   "nbconvert_exporter": "python",
   "pygments_lexer": "ipython3",
   "version": "3.8.8"
  }
 },
 "nbformat": 4,
 "nbformat_minor": 5
}
