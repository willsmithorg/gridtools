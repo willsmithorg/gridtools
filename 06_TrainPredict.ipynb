{
 "cells": [
  {
   "cell_type": "code",
   "execution_count": 1,
   "id": "american-defeat",
   "metadata": {},
   "outputs": [],
   "source": [
    "import pandas as pd\n",
    "import numpy as np\n",
    "import scipy\n",
    "\n",
    "from TrainPredictSelf import TrainPredictSelf\n",
    "\n",
    "\n",
    "import logging\n",
    "import sys\n",
    "logging.basicConfig(stream=sys.stdout, level=logging.INFO, datefmt='%H:%M:%S', format='%(asctime)s.%(msecs)03d - %(filename)s:%(lineno)d - %(message)s')"
   ]
  },
  {
   "cell_type": "code",
   "execution_count": 2,
   "id": "fifty-beast",
   "metadata": {},
   "outputs": [],
   "source": [
    "data1 = { 'country': ['Germany','Germany','Germany','Germany','Germany', 'Germany',\n",
    "                     'US', 'US', 'US', 'US', 'US',\n",
    "                     'UK', 'UK', 'Germany', 'UK', 'UK', \n",
    "                     'LUX','LUX','LUX','LUX','LUX'],\n",
    "         'currency':['EUR','EUR','EUR','EUR','EUR','MXN',\n",
    "                     'USD','USD','USD','USD','USD',\n",
    "                     'GBP','GBP','GBP','GBP','GBP',\n",
    "                     'EUR','EUR','EUR','EUR','EUR'],\n",
    "         'manyvalues':['A', 'A', 'B', 'B', 'C', 'C', 'D', 'D', 'E', 'E', 'E', 'K', 'L', 'M', 'N', 'O',\n",
    "                      'Z', 'Z', 'Z', 'Z', 'Y'],\n",
    "         'rand': [ np.random.uniform(100,200) for _ in range(21) ],\n",
    "         'linear': [ x for x in range(21) ],\n",
    "         'city': ['Frankfurt am Main'] * 6 + ['Los Angeles'] * 5 + ['London'] * 5 + ['Luxembourg'] * 4 + ['Bad'] * 1}\n",
    "data1 = pd.DataFrame(data1) "
   ]
  },
  {
   "cell_type": "code",
   "execution_count": 3,
   "id": "educational-october",
   "metadata": {},
   "outputs": [
    {
     "name": "stdout",
     "output_type": "stream",
     "text": [
      "*** country ***\n",
      "mode : classifier\n",
      "actuals:\n",
      "[0 0 0 0 0 0 3 3 3 3 3 2 2 0 2 2 1 1 1 1 1]\n",
      "predictions:\n",
      "[0 0 0 0 0 0 3 3 3 3 3 2 2 2 2 1 1 1 1 1 1]\n",
      "probabilities\n",
      "[0.90647906 0.8767009  0.9299957  0.87877136 0.9040104  0.76896733\n",
      " 0.7984177  0.85068935 0.78105885 0.8662943  0.84138083 0.61330444\n",
      " 0.55046695 0.886094   0.4821883  0.46139678 0.88189834 0.7820789\n",
      " 0.744133   0.9006625  0.46556124]\n",
      "*** currency ***\n",
      "mode : classifier\n",
      "actuals:\n",
      "[0 0 0 0 0 2 3 3 3 3 3 1 1 1 1 1 0 0 0 0 0]\n",
      "predictions:\n",
      "[0 0 0 0 0 0 3 3 3 3 3 1 1 0 1 1 0 0 0 0 0]\n",
      "probabilities\n",
      "[0.71335816 0.91472167 0.7604107  0.9195697  0.713994   0.83377445\n",
      " 0.78423065 0.90134066 0.74198097 0.88626564 0.7871258  0.8092603\n",
      " 0.85376686 0.4140242  0.8543477  0.76488525 0.9312955  0.94787174\n",
      " 0.65806115 0.9357647  0.8723464 ]\n",
      "*** manyvalues ***\n",
      "mode : classifier\n",
      "actuals:\n",
      "[ 0  0  1  1  2  2  3  3  4  4  4  5  6  7  8  9 11 11 11 11 10]\n",
      "predictions:\n",
      "[ 1  1  0  2  1  3  4  4  4  4  4  6  5  2  9  4 11 11 11 11 11]\n",
      "probabilities\n",
      "[0.5714691  0.4041652  0.49026147 0.41860855 0.33308917 0.15229169\n",
      " 0.571291   0.77956283 0.29581636 0.54912335 0.3956258  0.20234424\n",
      " 0.18678136 0.4434407  0.14564617 0.13615982 0.77731204 0.80248743\n",
      " 0.72114766 0.77001816 0.8263116 ]\n",
      "*** rand ***\n",
      "mode : regressor\n",
      "actuals:\n",
      "[101.02052964 171.76916437 115.60644323 191.65301123 171.01441132\n",
      " 156.70199763 173.8759688  131.82323003 177.05312771 135.05752462\n",
      " 124.81064741 197.73722912 181.13311574 158.22792911 143.81901803\n",
      " 117.50806925 169.19750527 173.70225346 156.39687987 161.96276831\n",
      " 159.44232275]\n",
      "mean:\n",
      "[120.65321 120.65321 192.25938 128.37573 184.61472 175.64035 131.3298\n",
      " 181.01114 133.4238  125.28184 137.76686 166.97452 163.34799 157.32784\n",
      " 160.34555 167.47188 173.56761 157.22714 162.83571 157.33014 162.09868]\n",
      "std:\n",
      "[ 5.933277    5.933277    0.93733126  5.171417    8.053016    5.0830946\n",
      "  1.1490158   3.184132    2.0830534   0.8415838   2.5727181   4.0952063\n",
      "  9.014064   10.862945   10.02985     5.5528045   0.06863753  0.6240707\n",
      "  1.176703    1.1812453   2.349378  ]\n",
      "*** linear ***\n",
      "mode : classifier\n",
      "actuals:\n",
      "[ 0  1  2  3  4  5  6  7  8  9 10 11 12 13 14 15 16 17 18 19 20]\n",
      "predictions:\n",
      "[ 2 11 13  4  3 13  3 13  3 13 13  4  4 18 18 18  3  3  4  4  4]\n",
      "probabilities\n",
      "[0.06419681 0.0687442  0.06101435 0.06144402 0.06144402 0.06455795\n",
      " 0.05658487 0.06521542 0.05671975 0.06519891 0.06519891 0.05671746\n",
      " 0.05671746 0.06068986 0.06068986 0.06068986 0.06122575 0.06122575\n",
      " 0.05663224 0.05623112 0.05665749]\n",
      "*** city ***\n",
      "mode : classifier\n",
      "actuals:\n",
      "[1 1 1 1 1 1 3 3 3 3 3 2 2 2 2 2 4 4 4 4 0]\n",
      "predictions:\n",
      "[1 1 1 1 1 1 3 3 3 3 3 2 2 2 2 2 4 4 4 4 4]\n",
      "probabilities\n",
      "[0.87774557 0.8611708  0.88773197 0.8946253  0.8946253  0.5932181\n",
      " 0.76586807 0.8540668  0.8345581  0.85888994 0.8349213  0.8675613\n",
      " 0.8749349  0.40600553 0.8823323  0.87889767 0.82678455 0.82424307\n",
      " 0.75020576 0.7785463  0.6885241 ]\n",
      "Total time 8.884990692138672 seconds\n"
     ]
    }
   ],
   "source": [
    "tps = TrainPredictSelf()\n",
    "\n",
    "tps.Train(data1)"
   ]
  },
  {
   "cell_type": "code",
   "execution_count": null,
   "id": "every-malawi",
   "metadata": {},
   "outputs": [],
   "source": []
  }
 ],
 "metadata": {
  "kernelspec": {
   "display_name": "Python 3",
   "language": "python",
   "name": "python3"
  },
  "language_info": {
   "codemirror_mode": {
    "name": "ipython",
    "version": 3
   },
   "file_extension": ".py",
   "mimetype": "text/x-python",
   "name": "python",
   "nbconvert_exporter": "python",
   "pygments_lexer": "ipython3",
   "version": "3.8.8"
  }
 },
 "nbformat": 4,
 "nbformat_minor": 5
}
