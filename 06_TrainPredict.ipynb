{
 "cells": [
  {
   "cell_type": "code",
   "execution_count": 1,
   "id": "american-defeat",
   "metadata": {},
   "outputs": [],
   "source": [
    "import pandas as pd\n",
    "import numpy as np\n",
    "import scipy\n",
    "\n",
    "from TrainPredictSelf import TrainPredictSelf\n",
    "\n",
    "\n",
    "import logging\n",
    "import sys\n",
    "logging.basicConfig(stream=sys.stdout, level=logging.INFO, datefmt='%H:%M:%S', format='%(asctime)s.%(msecs)03d - %(filename)s:%(lineno)d - %(message)s')"
   ]
  },
  {
   "cell_type": "code",
   "execution_count": 2,
   "id": "fifty-beast",
   "metadata": {},
   "outputs": [],
   "source": [
    "data1 = { 'country': ['Germany','Germany','Germany','Germany','Germany', 'Germany',\n",
    "                     'US', 'US', 'US', 'US', 'US',\n",
    "                     'UK', 'UK', 'UK', 'UK', 'UK', \n",
    "                     'LUX','LUX','LUX','LUX','LUX'],\n",
    "         'currency':['EUR','EUR','EUR','EUR','EUR','MXN',\n",
    "                     'USD','USD','USD','USD','USD',\n",
    "                     'GBP','GBP','GBP','GBP','GBP',\n",
    "                     'EUR','EUR','EUR','EUR','EUR'],\n",
    "         'manyvalues':['A', 'A', 'B', 'B', 'C', 'C', 'D', 'D', 'E', 'E', 'E', 'K', 'L', 'M', 'N', 'O',\n",
    "                      'Z', 'Z', 'Z', 'Z', 'Y'],\n",
    "         'rand': [ np.random.uniform(100,200) for _ in range(21) ],\n",
    "         'linear': [ x for x in range(21) ],\n",
    "         'city': ['Frankfurt am Main'] * 6 + ['Los Angeles'] * 5 + ['London'] * 5+  ['Luxembourg'] * 5}\n",
    "data1 = pd.DataFrame(data1) "
   ]
  },
  {
   "cell_type": "code",
   "execution_count": 3,
   "id": "educational-october",
   "metadata": {},
   "outputs": [
    {
     "name": "stdout",
     "output_type": "stream",
     "text": [
      "country\n",
      "0.9533333333333334\n",
      "currency\n",
      "0.95\n",
      "manyvalues\n",
      "0.4066666666666666\n",
      "rand\n",
      "-2.1150654100779906\n",
      "linear\n",
      "0.0\n",
      "city\n",
      "1.0\n",
      "Total time 6.293008089065552 seconds\n"
     ]
    }
   ],
   "source": [
    "tps = TrainPredictSelf()\n",
    "\n",
    "tps.Train(data1)"
   ]
  },
  {
   "cell_type": "code",
   "execution_count": null,
   "id": "every-malawi",
   "metadata": {},
   "outputs": [],
   "source": []
  }
 ],
 "metadata": {
  "kernelspec": {
   "display_name": "Python 3",
   "language": "python",
   "name": "python3"
  },
  "language_info": {
   "codemirror_mode": {
    "name": "ipython",
    "version": 3
   },
   "file_extension": ".py",
   "mimetype": "text/x-python",
   "name": "python",
   "nbconvert_exporter": "python",
   "pygments_lexer": "ipython3",
   "version": "3.8.8"
  }
 },
 "nbformat": 4,
 "nbformat_minor": 5
}
