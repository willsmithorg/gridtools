{
 "cells": [
  {
   "cell_type": "code",
   "execution_count": 1,
   "id": "radio-coast",
   "metadata": {},
   "outputs": [],
   "source": [
    "import os\n",
    "os.environ[\"CUDA_VISIBLE_DEVICES\"] = \"-1\"\n",
    "\n",
    "import pandas as pd\n",
    "import numpy as np\n",
    "from Column import Column\n",
    "from AddDerivedColumns import AddDerivedColumns\n",
    "\n",
    "import logging\n",
    "logging.basicConfig(level=logging.INFO, datefmt='%H:%M:%S', format='%(asctime)s.%(msecs)03d - %(filename)s:%(lineno)d - %(message)s')"
   ]
  },
  {
   "cell_type": "code",
   "execution_count": 2,
   "id": "dutch-photography",
   "metadata": {},
   "outputs": [
    {
     "name": "stderr",
     "output_type": "stream",
     "text": [
      "23:27:04.969 - resolver.py:105 - Using C:\\Users\\will\\AppData\\Local\\Temp\\tfhub_modules to cache modules.\n"
     ]
    }
   ],
   "source": [
    "col1 = Column(pd.Series(['abc','def', 'ghij', 'abc'], name='col1'))\n",
    "col2 = Column(pd.Series([1, 2, 4],                    name='col2'))\n",
    "col3 = Column(pd.Series(['these are proper sentences.  they should be embedded',\n",
    "                                      'and here''s another one'],                    name='col3'))\n",
    " \n",
    "adc = AddDerivedColumns()\n",
    "adc.Register('SentenceEmbedder') \n",
    "expected_embedding_size = 512"
   ]
  },
  {
   "cell_type": "code",
   "execution_count": 3,
   "id": "electronic-idaho",
   "metadata": {},
   "outputs": [],
   "source": [
    "newcols = adc.Process(col1)        \n",
    "assert(len(newcols) == 0)\n",
    "\n",
    "newcols = adc.Process(col2)        \n",
    "assert(len(newcols) == 0)"
   ]
  },
  {
   "cell_type": "code",
   "execution_count": 4,
   "id": "female-finance",
   "metadata": {},
   "outputs": [],
   "source": [
    "newcols = adc.Process(col3)    "
   ]
  },
  {
   "cell_type": "code",
   "execution_count": 5,
   "id": "standing-publication",
   "metadata": {},
   "outputs": [],
   "source": [
    "# Lots of new columns got created from the embedding, up to the embedding size.\n",
    "assert (len(newcols) == expected_embedding_size)\n",
    "# Check the first column looks sane.\n",
    "\n",
    "assert(len(newcols[0].series) == 2)  # We embedded 2 sentences.\n",
    "assert(np.max([ x.series[0] for x in newcols]) < 1)\n",
    "assert(np.min([ x.series[0] for x in newcols]) > -1)\n",
    "assert(np.mean([ x.series[0] for x in newcols]) != 0)"
   ]
  },
  {
   "cell_type": "code",
   "execution_count": null,
   "id": "magnetic-binding",
   "metadata": {},
   "outputs": [],
   "source": [
    "\n"
   ]
  }
 ],
 "metadata": {
  "kernelspec": {
   "display_name": "Python 3",
   "language": "python",
   "name": "python3"
  },
  "language_info": {
   "codemirror_mode": {
    "name": "ipython",
    "version": 3
   },
   "file_extension": ".py",
   "mimetype": "text/x-python",
   "name": "python",
   "nbconvert_exporter": "python",
   "pygments_lexer": "ipython3",
   "version": "3.8.8"
  }
 },
 "nbformat": 4,
 "nbformat_minor": 5
}
