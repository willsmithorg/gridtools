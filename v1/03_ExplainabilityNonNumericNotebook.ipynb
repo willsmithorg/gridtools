{
 "cells": [
  {
   "cell_type": "code",
   "execution_count": 1,
   "metadata": {},
   "outputs": [],
   "source": [
    "import pandas as pd\n",
    "import numpy as np\n",
    "import scipy\n",
    "from TrainPredict import TrainPredict\n",
    "from CalcMeanStdPredictions import CalcMeanStdPredictions\n",
    "from SpotErrors import SpotErrors\n",
    "\n",
    "import logging\n",
    "import sys\n",
    "logging.basicConfig(stream=sys.stdout, level=logging.DEBUG, datefmt='%H:%M:%S', format='%(asctime)s.%(msecs)03d - %(filename)s:%(lineno)d - %(message)s')\n",
    "\n"
   ]
  },
  {
   "cell_type": "code",
   "execution_count": 2,
   "metadata": {},
   "outputs": [
    {
     "name": "stdout",
     "output_type": "stream",
     "text": [
      "    country currency manyvalues        rand  linear\n",
      "0   Germany      EUR          A  166.491186       0\n",
      "1   Germany      EUR          A  124.274482       1\n",
      "2   Germany      EUR          B  192.169327       2\n",
      "3   Germany      EUR          B  186.862076       3\n",
      "4   Germany      EUR          C  137.496788       4\n",
      "5   Germany      MXN          C  129.811490       5\n",
      "6        US      USD          D  182.147598       6\n",
      "7        US      USD          D  134.221071       7\n",
      "8        US      USD          E  152.141927       8\n",
      "9        US      USD          E  159.249712       9\n",
      "10       US      USD          E  148.494310      10\n",
      "11       UK      GBP          K  137.463731      11\n",
      "12       UK      GBP          L  133.337564      12\n",
      "13       UK      GBP          M  185.518502      13\n",
      "14       UK      GBP          N  176.786187      14\n",
      "15       UK      GBP          O  119.888603      15\n",
      "16      LUX      EUR          Z  169.442474      16\n",
      "17      LUX      EUR          Z  128.661478      17\n",
      "18      LUX      EUR          Z  182.632073      18\n",
      "19      LUX      EUR          Z  134.224307      19\n",
      "20      LUX      EUR          Y  113.537669      20\n"
     ]
    }
   ],
   "source": [
    "# Create simple dataframe\n",
    "data = { 'country': ['Germany','Germany','Germany','Germany','Germany', 'Germany',\n",
    "                     'US', 'US', 'US', 'US', 'US',\n",
    "                     'UK', 'UK', 'UK', 'UK', 'UK', \n",
    "                     'LUX','LUX','LUX','LUX','LUX'],\n",
    "         'currency':['EUR','EUR','EUR','EUR','EUR','MXN',\n",
    "                     'USD','USD','USD','USD','USD',\n",
    "                     'GBP','GBP','GBP','GBP','GBP',\n",
    "                     'EUR','EUR','EUR','EUR','EUR'],\n",
    "         'manyvalues':['A', 'A', 'B', 'B', 'C', 'C', 'D', 'D', 'E', 'E', 'E', 'K', 'L', 'M', 'N', 'O',\n",
    "                      'Z', 'Z', 'Z', 'Z', 'Y'],\n",
    "         'rand': [ np.random.uniform(100,200) for _ in range(21) ],\n",
    "         'linear': [ x for x in range(21) ]}\n",
    "   \n",
    "\n",
    "frame = pd.DataFrame(data)\n",
    "print(frame)"
   ]
  },
  {
   "cell_type": "code",
   "execution_count": 3,
   "metadata": {},
   "outputs": [
    {
     "name": "stderr",
     "output_type": "stream",
     "text": [
      "C:\\Users\\will\\AppData\\Local\\Packages\\PythonSoftwareFoundation.Python.3.8_qbz5n2kfra8p0\\LocalCache\\local-packages\\Python38\\site-packages\\xgboost\\sklearn.py:888: UserWarning: The use of label encoder in XGBClassifier is deprecated and will be removed in a future release. To remove this warning, do the following: 1) Pass option use_label_encoder=False when constructing XGBClassifier object; and 2) Encode your labels (y) as integers starting with 0, i.e. 0, 1, 2, ..., [num_class - 1].\n",
      "  warnings.warn(label_encoder_deprecation_msg, UserWarning)\n"
     ]
    }
   ],
   "source": [
    "tp = TrainPredict()\n",
    "ytest = tp.Predict(frame, 'country')\n",
    "#print(ytest.shape)"
   ]
  },
  {
   "cell_type": "code",
   "execution_count": 4,
   "metadata": {},
   "outputs": [],
   "source": [
    "cms = CalcMeanStdPredictions()\n",
    "means,stds = cms.Calc(tp, ytest, 'country')\n",
    "#print( means)\n",
    "#print(stds)\n",
    "#print(means.shape)"
   ]
  },
  {
   "cell_type": "code",
   "execution_count": 5,
   "metadata": {},
   "outputs": [],
   "source": [
    "se = SpotErrors()\n",
    "boolerrord = se.Spot(tp, means, stds, 'country')\n",
    "#print(boolerrord)"
   ]
  },
  {
   "cell_type": "code",
   "execution_count": 6,
   "metadata": {},
   "outputs": [
    {
     "name": "stdout",
     "output_type": "stream",
     "text": [
      "    country\n",
      "0     False\n",
      "1     False\n",
      "2     False\n",
      "3     False\n",
      "4     False\n",
      "5     False\n",
      "6      True\n",
      "7      True\n",
      "8     False\n",
      "9     False\n",
      "10     True\n",
      "11    False\n",
      "12    False\n",
      "13    False\n",
      "14    False\n",
      "15    False\n",
      "16    False\n",
      "17    False\n",
      "18    False\n",
      "19    False\n",
      "20    False\n",
      "   country\n",
      "0       []\n",
      "1       []\n",
      "2       []\n",
      "3       []\n",
      "4       []\n",
      "5       []\n",
      "6       []\n",
      "7       []\n",
      "8       []\n",
      "9       []\n",
      "10      []\n",
      "11      []\n",
      "12      []\n",
      "13      []\n",
      "14      []\n",
      "15      []\n",
      "16      []\n",
      "17      []\n",
      "18      []\n",
      "19      []\n",
      "20      []\n"
     ]
    }
   ],
   "source": [
    "boolerrors, predictions = se.GetErrorsAndPredictions('country')\n",
    "print(boolerrors)\n",
    "print(predictions)"
   ]
  },
  {
   "cell_type": "code",
   "execution_count": null,
   "metadata": {},
   "outputs": [],
   "source": []
  },
  {
   "cell_type": "code",
   "execution_count": null,
   "metadata": {},
   "outputs": [],
   "source": []
  },
  {
   "cell_type": "code",
   "execution_count": null,
   "metadata": {},
   "outputs": [],
   "source": []
  },
  {
   "cell_type": "code",
   "execution_count": null,
   "metadata": {},
   "outputs": [],
   "source": []
  }
 ],
 "metadata": {
  "kernelspec": {
   "display_name": "Python 3",
   "language": "python",
   "name": "python3"
  },
  "language_info": {
   "codemirror_mode": {
    "name": "ipython",
    "version": 3
   },
   "file_extension": ".py",
   "mimetype": "text/x-python",
   "name": "python",
   "nbconvert_exporter": "python",
   "pygments_lexer": "ipython3",
   "version": "3.8.8"
  }
 },
 "nbformat": 4,
 "nbformat_minor": 4
}
