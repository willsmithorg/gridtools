{
 "cells": [
  {
   "cell_type": "code",
   "execution_count": 1,
   "metadata": {},
   "outputs": [],
   "source": [
    "import pandas as pd\n",
    "from MakeFrameNumeric import MakeFrameNumeric\n"
   ]
  },
  {
   "cell_type": "code",
   "execution_count": 2,
   "metadata": {},
   "outputs": [
    {
     "name": "stdout",
     "output_type": "stream",
     "text": [
      "  id   state  year  pop\n",
      "0  A    Ohio  2000  1.5\n",
      "1  B    Ohio  2001  1.7\n",
      "2  C    Ohio  2002  3.6\n",
      "3  D  Nevada  2001  2.4\n",
      "4  E  Nevada  2002  2.9\n"
     ]
    }
   ],
   "source": [
    "# Create simple dataframe with not too many categories.\n",
    "data = {'id': ['A','B','C','D','E'],\n",
    "        'state':['Ohio', 'Ohio', 'Ohio', 'Nevada', 'Nevada'],        \n",
    "        'year':[2000,2001,2002,2001,2002],\n",
    "       'pop':[1.5,1.7,3.6,2.4,2.9]}\n",
    "frame = pd.DataFrame(data)\n",
    "print(frame)"
   ]
  },
  {
   "cell_type": "code",
   "execution_count": 3,
   "metadata": {},
   "outputs": [
    {
     "name": "stdout",
     "output_type": "stream",
     "text": [
      "   id_0  id_1  id_2  id_3  id_4  state_0  state_1  year  pop\n",
      "0     1     0     0     0     0        0        1  2000  1.5\n",
      "1     0     1     0     0     0        0        1  2001  1.7\n",
      "2     0     0     1     0     0        0        1  2002  3.6\n",
      "3     0     0     0     1     0        1        0  2001  2.4\n",
      "4     0     0     0     0     1        1        0  2002  2.9\n"
     ]
    }
   ],
   "source": [
    "f = MakeFrameNumeric()\n",
    "print(f.Convert(frame))"
   ]
  },
  {
   "cell_type": "code",
   "execution_count": 5,
   "metadata": {},
   "outputs": [
    {
     "name": "stdout",
     "output_type": "stream",
     "text": [
      "   id  pop\n",
      "0   A  1.0\n",
      "1   B  1.0\n",
      "2   C  1.0\n",
      "3   D  1.0\n",
      "4   E  1.0\n",
      "5   F  1.0\n",
      "6   G  1.0\n",
      "7   H  1.0\n",
      "8   I  1.0\n",
      "9   J  1.0\n",
      "10  K  1.0\n",
      "11  L  1.0\n",
      "12  M  1.0\n",
      "13  N  1.0\n",
      "14  O  1.0\n",
      "15  P  1.0\n",
      "16  Q  1.0\n",
      "17  R  1.0\n",
      "18  S  1.0\n",
      "19  T  1.0\n",
      "20  U  1.0\n",
      "21  V  1.0\n",
      "22  W  1.0\n",
      "23  X  1.0\n",
      "24  Y  1.0\n",
      "25  Z  1.0\n"
     ]
    }
   ],
   "source": [
    "# Now a dataframe with many categories, too many for one-hot encoding.\n",
    "f.maximum_cardinality_for_one_hot_encode = 10\n",
    "data = {'id': ['A','B','C','D','E','F','G','H','I','J','K','L','M','N','O','P','Q','R','S','T','U','V','W','X','Y','Z'],        \n",
    "       'pop':[1.0] * 26}\n",
    "frame = pd.DataFrame(data)\n",
    "print(frame)\n"
   ]
  },
  {
   "cell_type": "code",
   "execution_count": 6,
   "metadata": {},
   "outputs": [
    {
     "name": "stdout",
     "output_type": "stream",
     "text": [
      "    id  pop\n",
      "0    0  1.0\n",
      "1    1  1.0\n",
      "2    2  1.0\n",
      "3    3  1.0\n",
      "4    4  1.0\n",
      "5    5  1.0\n",
      "6    6  1.0\n",
      "7    7  1.0\n",
      "8    8  1.0\n",
      "9    9  1.0\n",
      "10  10  1.0\n",
      "11  11  1.0\n",
      "12  12  1.0\n",
      "13  13  1.0\n",
      "14  14  1.0\n",
      "15  15  1.0\n",
      "16  16  1.0\n",
      "17  17  1.0\n",
      "18  18  1.0\n",
      "19  19  1.0\n",
      "20  20  1.0\n",
      "21  21  1.0\n",
      "22  22  1.0\n",
      "23  23  1.0\n",
      "24  24  1.0\n",
      "25  25  1.0\n"
     ]
    }
   ],
   "source": [
    "f = MakeFrameNumeric()\n",
    "print(f.Convert(frame))"
   ]
  },
  {
   "cell_type": "code",
   "execution_count": 7,
   "metadata": {},
   "outputs": [
    {
     "name": "stdout",
     "output_type": "stream",
     "text": [
      "    id_0  id_1  id_2  id_3  id_4  id_5  id_6  id_7  id_8  id_9  ...  id_17  \\\n",
      "0      1     0     0     0     0     0     0     0     0     0  ...      0   \n",
      "1      0     1     0     0     0     0     0     0     0     0  ...      0   \n",
      "2      0     0     1     0     0     0     0     0     0     0  ...      0   \n",
      "3      0     0     0     1     0     0     0     0     0     0  ...      0   \n",
      "4      0     0     0     0     1     0     0     0     0     0  ...      0   \n",
      "5      0     0     0     0     0     1     0     0     0     0  ...      0   \n",
      "6      0     0     0     0     0     0     1     0     0     0  ...      0   \n",
      "7      0     0     0     0     0     0     0     1     0     0  ...      0   \n",
      "8      0     0     0     0     0     0     0     0     1     0  ...      0   \n",
      "9      0     0     0     0     0     0     0     0     0     1  ...      0   \n",
      "10     0     0     0     0     0     0     0     0     0     0  ...      0   \n",
      "11     0     0     0     0     0     0     0     0     0     0  ...      0   \n",
      "12     0     0     0     0     0     0     0     0     0     0  ...      0   \n",
      "13     0     0     0     0     0     0     0     0     0     0  ...      0   \n",
      "14     0     0     0     0     0     0     0     0     0     0  ...      0   \n",
      "15     0     0     0     0     0     0     0     0     0     0  ...      0   \n",
      "16     0     0     0     0     0     0     0     0     0     0  ...      0   \n",
      "17     0     0     0     0     0     0     0     0     0     0  ...      1   \n",
      "18     0     0     0     0     0     0     0     0     0     0  ...      0   \n",
      "19     0     0     0     0     0     0     0     0     0     0  ...      0   \n",
      "20     0     0     0     0     0     0     0     0     0     0  ...      0   \n",
      "21     0     0     0     0     0     0     0     0     0     0  ...      0   \n",
      "22     0     0     0     0     0     0     0     0     0     0  ...      0   \n",
      "23     0     0     0     0     0     0     0     0     0     0  ...      0   \n",
      "24     0     0     0     0     0     0     0     0     0     0  ...      0   \n",
      "25     0     0     0     0     0     0     0     0     0     0  ...      0   \n",
      "\n",
      "    id_18  id_19  id_20  id_21  id_22  id_23  id_24  id_25  pop  \n",
      "0       0      0      0      0      0      0      0      0  1.0  \n",
      "1       0      0      0      0      0      0      0      0  1.0  \n",
      "2       0      0      0      0      0      0      0      0  1.0  \n",
      "3       0      0      0      0      0      0      0      0  1.0  \n",
      "4       0      0      0      0      0      0      0      0  1.0  \n",
      "5       0      0      0      0      0      0      0      0  1.0  \n",
      "6       0      0      0      0      0      0      0      0  1.0  \n",
      "7       0      0      0      0      0      0      0      0  1.0  \n",
      "8       0      0      0      0      0      0      0      0  1.0  \n",
      "9       0      0      0      0      0      0      0      0  1.0  \n",
      "10      0      0      0      0      0      0      0      0  1.0  \n",
      "11      0      0      0      0      0      0      0      0  1.0  \n",
      "12      0      0      0      0      0      0      0      0  1.0  \n",
      "13      0      0      0      0      0      0      0      0  1.0  \n",
      "14      0      0      0      0      0      0      0      0  1.0  \n",
      "15      0      0      0      0      0      0      0      0  1.0  \n",
      "16      0      0      0      0      0      0      0      0  1.0  \n",
      "17      0      0      0      0      0      0      0      0  1.0  \n",
      "18      1      0      0      0      0      0      0      0  1.0  \n",
      "19      0      1      0      0      0      0      0      0  1.0  \n",
      "20      0      0      1      0      0      0      0      0  1.0  \n",
      "21      0      0      0      1      0      0      0      0  1.0  \n",
      "22      0      0      0      0      1      0      0      0  1.0  \n",
      "23      0      0      0      0      0      1      0      0  1.0  \n",
      "24      0      0      0      0      0      0      1      0  1.0  \n",
      "25      0      0      0      0      0      0      0      1  1.0  \n",
      "\n",
      "[26 rows x 27 columns]\n"
     ]
    }
   ],
   "source": [
    "# Increase the threshold\n",
    "f.maximum_cardinality_for_one_hot_encode = 100\n",
    "print(f.Convert(frame))"
   ]
  },
  {
   "cell_type": "code",
   "execution_count": null,
   "metadata": {},
   "outputs": [],
   "source": []
  }
 ],
 "metadata": {
  "kernelspec": {
   "display_name": "Python 3",
   "language": "python",
   "name": "python3"
  },
  "language_info": {
   "codemirror_mode": {
    "name": "ipython",
    "version": 3
   },
   "file_extension": ".py",
   "mimetype": "text/x-python",
   "name": "python",
   "nbconvert_exporter": "python",
   "pygments_lexer": "ipython3",
   "version": "3.8.5"
  }
 },
 "nbformat": 4,
 "nbformat_minor": 4
}
